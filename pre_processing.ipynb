{
 "cells": [
  {
   "cell_type": "code",
   "execution_count": 1,
   "metadata": {},
   "outputs": [],
   "source": [
    "import pandas as pd\n",
    "import numpy as np\n",
    "from  graphviz import Source\n",
    "from scipy import misc\n",
    "from sklearn.tree import DecisionTreeClassifier, export_graphviz\n",
    "import matplotlib.pyplot as plt\n",
    "import seaborn as sns"
   ]
  },
  {
   "cell_type": "markdown",
   "metadata": {},
   "source": [
    "#### Importar dados para analise\n",
    "Para iniciar a analise dos dados primeiro necessita-se\n",
    "importar esse dados, os .csv encontrados abaixo são os dados disponibilizados\n",
    "[aqui](https://archive.ics.uci.edu/ml/datasets/record+linkage+comparison+patterns).\n",
    "Após carregar cada um dos dados .csv unimos em um unico frame do pandas."
   ]
  },
  {
   "cell_type": "code",
   "execution_count": 2,
   "metadata": {
    "scrolled": false
   },
   "outputs": [],
   "source": [
    "dataframe = pd.DataFrame()\n",
    "for x in range(1,11):\n",
    "    dataframe_name = 'data/block_'+str(x)+'.csv'\n",
    "    new_dataframe = pd.read_csv(dataframe_name)\n",
    "    dataframe = pd.concat([dataframe,new_dataframe])\n",
    "\n",
    "frame = dataframe\n"
   ]
  },
  {
   "cell_type": "markdown",
   "metadata": {},
   "source": [
    "#### Exibir Frame\n",
    "Exibir resultado do merge dos frames.."
   ]
  },
  {
   "cell_type": "code",
   "execution_count": 21,
   "metadata": {},
   "outputs": [
    {
     "data": {
      "text/html": [
       "<div>\n",
       "<style scoped>\n",
       "    .dataframe tbody tr th:only-of-type {\n",
       "        vertical-align: middle;\n",
       "    }\n",
       "\n",
       "    .dataframe tbody tr th {\n",
       "        vertical-align: top;\n",
       "    }\n",
       "\n",
       "    .dataframe thead th {\n",
       "        text-align: right;\n",
       "    }\n",
       "</style>\n",
       "<table border=\"1\" class=\"dataframe\">\n",
       "  <thead>\n",
       "    <tr style=\"text-align: right;\">\n",
       "      <th></th>\n",
       "      <th>id_1</th>\n",
       "      <th>id_2</th>\n",
       "      <th>cmp_fname_c1</th>\n",
       "      <th>cmp_fname_c2</th>\n",
       "      <th>cmp_lname_c1</th>\n",
       "      <th>cmp_lname_c2</th>\n",
       "      <th>cmp_sex</th>\n",
       "      <th>cmp_bd</th>\n",
       "      <th>cmp_bm</th>\n",
       "      <th>cmp_by</th>\n",
       "      <th>cmp_plz</th>\n",
       "      <th>is_match</th>\n",
       "    </tr>\n",
       "  </thead>\n",
       "  <tbody>\n",
       "    <tr>\n",
       "      <th>0</th>\n",
       "      <td>37291</td>\n",
       "      <td>53113</td>\n",
       "      <td>0.833333333333333</td>\n",
       "      <td>?</td>\n",
       "      <td>1.0</td>\n",
       "      <td>?</td>\n",
       "      <td>1</td>\n",
       "      <td>1</td>\n",
       "      <td>1</td>\n",
       "      <td>1</td>\n",
       "      <td>0</td>\n",
       "      <td>True</td>\n",
       "    </tr>\n",
       "    <tr>\n",
       "      <th>1</th>\n",
       "      <td>39086</td>\n",
       "      <td>47614</td>\n",
       "      <td>1</td>\n",
       "      <td>?</td>\n",
       "      <td>1.0</td>\n",
       "      <td>?</td>\n",
       "      <td>1</td>\n",
       "      <td>1</td>\n",
       "      <td>1</td>\n",
       "      <td>1</td>\n",
       "      <td>1</td>\n",
       "      <td>True</td>\n",
       "    </tr>\n",
       "    <tr>\n",
       "      <th>2</th>\n",
       "      <td>70031</td>\n",
       "      <td>70237</td>\n",
       "      <td>1</td>\n",
       "      <td>?</td>\n",
       "      <td>1.0</td>\n",
       "      <td>?</td>\n",
       "      <td>1</td>\n",
       "      <td>1</td>\n",
       "      <td>1</td>\n",
       "      <td>1</td>\n",
       "      <td>1</td>\n",
       "      <td>True</td>\n",
       "    </tr>\n",
       "    <tr>\n",
       "      <th>3</th>\n",
       "      <td>84795</td>\n",
       "      <td>97439</td>\n",
       "      <td>1</td>\n",
       "      <td>?</td>\n",
       "      <td>1.0</td>\n",
       "      <td>?</td>\n",
       "      <td>1</td>\n",
       "      <td>1</td>\n",
       "      <td>1</td>\n",
       "      <td>1</td>\n",
       "      <td>1</td>\n",
       "      <td>True</td>\n",
       "    </tr>\n",
       "    <tr>\n",
       "      <th>4</th>\n",
       "      <td>36950</td>\n",
       "      <td>42116</td>\n",
       "      <td>1</td>\n",
       "      <td>?</td>\n",
       "      <td>1.0</td>\n",
       "      <td>1</td>\n",
       "      <td>1</td>\n",
       "      <td>1</td>\n",
       "      <td>1</td>\n",
       "      <td>1</td>\n",
       "      <td>1</td>\n",
       "      <td>True</td>\n",
       "    </tr>\n",
       "  </tbody>\n",
       "</table>\n",
       "</div>"
      ],
      "text/plain": [
       "    id_1   id_2       cmp_fname_c1 cmp_fname_c2  cmp_lname_c1 cmp_lname_c2  \\\n",
       "0  37291  53113  0.833333333333333            ?           1.0            ?   \n",
       "1  39086  47614                  1            ?           1.0            ?   \n",
       "2  70031  70237                  1            ?           1.0            ?   \n",
       "3  84795  97439                  1            ?           1.0            ?   \n",
       "4  36950  42116                  1            ?           1.0            1   \n",
       "\n",
       "   cmp_sex cmp_bd cmp_bm cmp_by cmp_plz  is_match  \n",
       "0        1      1      1      1       0      True  \n",
       "1        1      1      1      1       1      True  \n",
       "2        1      1      1      1       1      True  \n",
       "3        1      1      1      1       1      True  \n",
       "4        1      1      1      1       1      True  "
      ]
     },
     "execution_count": 21,
     "metadata": {},
     "output_type": "execute_result"
    }
   ],
   "source": [
    "frame.head()"
   ]
  },
  {
   "cell_type": "code",
   "execution_count": 18,
   "metadata": {},
   "outputs": [
    {
     "data": {
      "text/html": [
       "<div>\n",
       "<style scoped>\n",
       "    .dataframe tbody tr th:only-of-type {\n",
       "        vertical-align: middle;\n",
       "    }\n",
       "\n",
       "    .dataframe tbody tr th {\n",
       "        vertical-align: top;\n",
       "    }\n",
       "\n",
       "    .dataframe thead th {\n",
       "        text-align: right;\n",
       "    }\n",
       "</style>\n",
       "<table border=\"1\" class=\"dataframe\">\n",
       "  <thead>\n",
       "    <tr style=\"text-align: right;\">\n",
       "      <th></th>\n",
       "      <th>id_1</th>\n",
       "      <th>id_2</th>\n",
       "      <th>cmp_fname_c1</th>\n",
       "      <th>cmp_fname_c2</th>\n",
       "      <th>cmp_lname_c1</th>\n",
       "      <th>cmp_lname_c2</th>\n",
       "      <th>cmp_sex</th>\n",
       "      <th>cmp_bd</th>\n",
       "      <th>cmp_bm</th>\n",
       "      <th>cmp_by</th>\n",
       "      <th>cmp_plz</th>\n",
       "      <th>is_match</th>\n",
       "    </tr>\n",
       "  </thead>\n",
       "  <tbody>\n",
       "    <tr>\n",
       "      <th>574908</th>\n",
       "      <td>39507</td>\n",
       "      <td>82513</td>\n",
       "      <td>1.0</td>\n",
       "      <td>NaN</td>\n",
       "      <td>0.285714</td>\n",
       "      <td>NaN</td>\n",
       "      <td>1</td>\n",
       "      <td>0.0</td>\n",
       "      <td>1.0</td>\n",
       "      <td>0.0</td>\n",
       "      <td>0.0</td>\n",
       "      <td>False</td>\n",
       "    </tr>\n",
       "    <tr>\n",
       "      <th>574909</th>\n",
       "      <td>20451</td>\n",
       "      <td>99586</td>\n",
       "      <td>1.0</td>\n",
       "      <td>NaN</td>\n",
       "      <td>0.125000</td>\n",
       "      <td>NaN</td>\n",
       "      <td>1</td>\n",
       "      <td>0.0</td>\n",
       "      <td>1.0</td>\n",
       "      <td>0.0</td>\n",
       "      <td>0.0</td>\n",
       "      <td>False</td>\n",
       "    </tr>\n",
       "    <tr>\n",
       "      <th>574910</th>\n",
       "      <td>62841</td>\n",
       "      <td>98890</td>\n",
       "      <td>1.0</td>\n",
       "      <td>NaN</td>\n",
       "      <td>0.090909</td>\n",
       "      <td>NaN</td>\n",
       "      <td>1</td>\n",
       "      <td>0.0</td>\n",
       "      <td>1.0</td>\n",
       "      <td>0.0</td>\n",
       "      <td>0.0</td>\n",
       "      <td>False</td>\n",
       "    </tr>\n",
       "    <tr>\n",
       "      <th>574911</th>\n",
       "      <td>7347</td>\n",
       "      <td>69456</td>\n",
       "      <td>1.0</td>\n",
       "      <td>NaN</td>\n",
       "      <td>0.111111</td>\n",
       "      <td>NaN</td>\n",
       "      <td>1</td>\n",
       "      <td>0.0</td>\n",
       "      <td>1.0</td>\n",
       "      <td>0.0</td>\n",
       "      <td>0.0</td>\n",
       "      <td>False</td>\n",
       "    </tr>\n",
       "    <tr>\n",
       "      <th>574912</th>\n",
       "      <td>23870</td>\n",
       "      <td>35371</td>\n",
       "      <td>1.0</td>\n",
       "      <td>NaN</td>\n",
       "      <td>0.000000</td>\n",
       "      <td>NaN</td>\n",
       "      <td>1</td>\n",
       "      <td>1.0</td>\n",
       "      <td>0.0</td>\n",
       "      <td>0.0</td>\n",
       "      <td>0.0</td>\n",
       "      <td>False</td>\n",
       "    </tr>\n",
       "  </tbody>\n",
       "</table>\n",
       "</div>"
      ],
      "text/plain": [
       "         id_1   id_2  cmp_fname_c1  cmp_fname_c2  cmp_lname_c1  cmp_lname_c2  \\\n",
       "574908  39507  82513           1.0           NaN      0.285714           NaN   \n",
       "574909  20451  99586           1.0           NaN      0.125000           NaN   \n",
       "574910  62841  98890           1.0           NaN      0.090909           NaN   \n",
       "574911   7347  69456           1.0           NaN      0.111111           NaN   \n",
       "574912  23870  35371           1.0           NaN      0.000000           NaN   \n",
       "\n",
       "        cmp_sex  cmp_bd  cmp_bm  cmp_by  cmp_plz  is_match  \n",
       "574908        1     0.0     1.0     0.0      0.0     False  \n",
       "574909        1     0.0     1.0     0.0      0.0     False  \n",
       "574910        1     0.0     1.0     0.0      0.0     False  \n",
       "574911        1     0.0     1.0     0.0      0.0     False  \n",
       "574912        1     1.0     0.0     0.0      0.0     False  "
      ]
     },
     "execution_count": 18,
     "metadata": {},
     "output_type": "execute_result"
    }
   ],
   "source": [
    "frame.tail()"
   ]
  },
  {
   "cell_type": "markdown",
   "metadata": {},
   "source": [
    "#### Arrumando tipos de dados"
   ]
  },
  {
   "cell_type": "code",
   "execution_count": 3,
   "metadata": {},
   "outputs": [],
   "source": [
    "broken_columns = list(frame.columns[2:11])\n",
    "\n",
    "for column in broken_columns:\n",
    "    frame[column] = frame[column].apply(lambda x: np.NaN if x == '?' else x)\n",
    "    frame[column] = frame[column].apply(lambda x: float(x) if type(x) == str else x)"
   ]
  },
  {
   "cell_type": "markdown",
   "metadata": {},
   "source": [
    "#### Verificando a existência de valores nulos"
   ]
  },
  {
   "cell_type": "code",
   "execution_count": 4,
   "metadata": {
    "scrolled": true
   },
   "outputs": [],
   "source": [
    "imp_values = frame.drop(['is_match','id_1','id_2'],axis=1)\n",
    "melted_frame = pd.melt(imp_values.notnull())"
   ]
  },
  {
   "cell_type": "code",
   "execution_count": 5,
   "metadata": {
    "scrolled": true
   },
   "outputs": [
    {
     "data": {
      "image/png": "[encoded data removed]",
      "text/plain": [
       "<Figure size 1080x288 with 1 Axes>"
      ]
     },
     "metadata": {},
     "output_type": "display_data"
    }
   ],
   "source": [
    "plt.figure(figsize=(15,4))\n",
    "sns.countplot(melted_frame['variable'],hue=melted_frame['value'])\n",
    "plt.tight_layout()"
   ]
  },
  {
   "cell_type": "markdown",
   "metadata": {},
   "source": [
    "No gráfico acima as barras em azul representam o número de valores nulos de cada coluna"
   ]
  },
  {
   "cell_type": "code",
   "execution_count": 6,
   "metadata": {},
   "outputs": [
    {
     "data": {
      "text/plain": [
       "<matplotlib.axes._subplots.AxesSubplot at 0x7f6890e71e48>"
      ]
     },
     "execution_count": 6,
     "metadata": {},
     "output_type": "execute_result"
    },
    {
     "data": {
      "image/png": "[encoded data removed]",
      "text/plain": [
       "<Figure size 432x288 with 1 Axes>"
      ]
     },
     "metadata": {},
     "output_type": "display_data"
    }
   ],
   "source": [
    "sns.heatmap(frame.drop(['id_1','id_2'],axis=1).isnull(),cbar=False,yticklabels=False)"
   ]
  },
  {
   "cell_type": "markdown",
   "metadata": {},
   "source": [
    "Acima vemos outro gráfico que representa a quantidade de valores nulos de cada coluna. Nesse caso as partes claras\n",
    "representam os valores faltantes"
   ]
  },
  {
   "cell_type": "markdown",
   "metadata": {},
   "source": [
    "#### Removendo colunas vazias\n",
    "Com o resultado da exibição do head e d tail do frame, observa-se a existencia de colunas\n",
    "com dados nulos, para a utilização do do sklearn para a criação da arvore de decisão é \n",
    "necesario remover os dados em branco, ou no caso do dataset do problema os dados com valor '?',\n",
    "para isso utilizamos o arquivo frequencies.cvs disponibilizado no dataset do problema, para fazer a substituição\n",
    "dos valores nulos para a media dos valores da coluna."
   ]
  },
  {
   "cell_type": "code",
   "execution_count": 7,
   "metadata": {},
   "outputs": [],
   "source": [
    "def preparer_data(frame):\n",
    "    frame[\"cmp_fname_c1\"] = frame[\"cmp_fname_c1\"].replace('?',0.000235404896421846)\n",
    "    frame[\"cmp_fname_c2\"] = frame[\"cmp_fname_c2\"].replace('?',0.00147710487444609)\n",
    "    frame[\"cmp_lname_c1\"] = frame[\"cmp_lname_c1\"].replace('?',2.68694413843136e-05)\n",
    "    frame[\"cmp_lname_c2\"] = frame[\"cmp_lname_c2\"].replace('?',0.000641025641025641)\n",
    "    frame[\"cmp_sex\"] = frame[\"cmp_sex\"].replace('?',0.5)\n",
    "    frame[\"cmp_bd\"] = frame[\"cmp_bd\"].replace('?',0.032258064516129)\n",
    "    frame[\"cmp_bm\"] = frame[\"cmp_bm\"].replace('?',0.0833333333333333)\n",
    "    frame[\"cmp_by\"] = frame[\"cmp_by\"].replace('?', 0.00943396226415094)\n",
    "    frame[\"cmp_plz\"] = frame[\"cmp_plz\"].replace('?', 0.000422654268808115)\n",
    "    \n",
    "    return frame\n",
    "\n",
    "frame = preparer_data(frame)\n"
   ]
  },
  {
   "cell_type": "code",
   "execution_count": 10,
   "metadata": {
    "collapsed": true
   },
   "outputs": [
    {
     "name": "stdout",
     "output_type": "stream",
     "text": [
      "<class 'pandas.core.frame.DataFrame'>\n",
      "Int64Index: 5749132 entries, 0 to 574912\n",
      "Data columns (total 12 columns):\n",
      "id_1            int64\n",
      "id_2            int64\n",
      "cmp_fname_c1    object\n",
      "cmp_fname_c2    object\n",
      "cmp_lname_c1    float64\n",
      "cmp_lname_c2    object\n",
      "cmp_sex         int64\n",
      "cmp_bd          object\n",
      "cmp_bm          object\n",
      "cmp_by          object\n",
      "cmp_plz         object\n",
      "is_match        bool\n",
      "dtypes: bool(1), float64(1), int64(3), object(7)\n",
      "memory usage: 531.8+ MB\n"
     ]
    }
   ],
   "source": [
    "frame.info()"
   ]
  },
  {
   "cell_type": "code",
   "execution_count": 8,
   "metadata": {},
   "outputs": [
    {
     "data": {
      "text/html": [
       "<div>\n",
       "<style scoped>\n",
       "    .dataframe tbody tr th:only-of-type {\n",
       "        vertical-align: middle;\n",
       "    }\n",
       "\n",
       "    .dataframe tbody tr th {\n",
       "        vertical-align: top;\n",
       "    }\n",
       "\n",
       "    .dataframe thead th {\n",
       "        text-align: right;\n",
       "    }\n",
       "</style>\n",
       "<table border=\"1\" class=\"dataframe\">\n",
       "  <thead>\n",
       "    <tr style=\"text-align: right;\">\n",
       "      <th></th>\n",
       "      <th>id_1</th>\n",
       "      <th>id_2</th>\n",
       "      <th>cmp_fname_c1</th>\n",
       "      <th>cmp_fname_c2</th>\n",
       "      <th>cmp_lname_c1</th>\n",
       "      <th>cmp_lname_c2</th>\n",
       "      <th>cmp_sex</th>\n",
       "      <th>cmp_bd</th>\n",
       "      <th>cmp_bm</th>\n",
       "      <th>cmp_by</th>\n",
       "      <th>cmp_plz</th>\n",
       "      <th>is_match</th>\n",
       "    </tr>\n",
       "  </thead>\n",
       "  <tbody>\n",
       "    <tr>\n",
       "      <th>0</th>\n",
       "      <td>37291</td>\n",
       "      <td>53113</td>\n",
       "      <td>0.833333333333333</td>\n",
       "      <td>0.0014771</td>\n",
       "      <td>1.0</td>\n",
       "      <td>0.000641026</td>\n",
       "      <td>1</td>\n",
       "      <td>1</td>\n",
       "      <td>1</td>\n",
       "      <td>1</td>\n",
       "      <td>0</td>\n",
       "      <td>True</td>\n",
       "    </tr>\n",
       "    <tr>\n",
       "      <th>1</th>\n",
       "      <td>39086</td>\n",
       "      <td>47614</td>\n",
       "      <td>1</td>\n",
       "      <td>0.0014771</td>\n",
       "      <td>1.0</td>\n",
       "      <td>0.000641026</td>\n",
       "      <td>1</td>\n",
       "      <td>1</td>\n",
       "      <td>1</td>\n",
       "      <td>1</td>\n",
       "      <td>1</td>\n",
       "      <td>True</td>\n",
       "    </tr>\n",
       "    <tr>\n",
       "      <th>2</th>\n",
       "      <td>70031</td>\n",
       "      <td>70237</td>\n",
       "      <td>1</td>\n",
       "      <td>0.0014771</td>\n",
       "      <td>1.0</td>\n",
       "      <td>0.000641026</td>\n",
       "      <td>1</td>\n",
       "      <td>1</td>\n",
       "      <td>1</td>\n",
       "      <td>1</td>\n",
       "      <td>1</td>\n",
       "      <td>True</td>\n",
       "    </tr>\n",
       "    <tr>\n",
       "      <th>3</th>\n",
       "      <td>84795</td>\n",
       "      <td>97439</td>\n",
       "      <td>1</td>\n",
       "      <td>0.0014771</td>\n",
       "      <td>1.0</td>\n",
       "      <td>0.000641026</td>\n",
       "      <td>1</td>\n",
       "      <td>1</td>\n",
       "      <td>1</td>\n",
       "      <td>1</td>\n",
       "      <td>1</td>\n",
       "      <td>True</td>\n",
       "    </tr>\n",
       "    <tr>\n",
       "      <th>4</th>\n",
       "      <td>36950</td>\n",
       "      <td>42116</td>\n",
       "      <td>1</td>\n",
       "      <td>0.0014771</td>\n",
       "      <td>1.0</td>\n",
       "      <td>1</td>\n",
       "      <td>1</td>\n",
       "      <td>1</td>\n",
       "      <td>1</td>\n",
       "      <td>1</td>\n",
       "      <td>1</td>\n",
       "      <td>True</td>\n",
       "    </tr>\n",
       "  </tbody>\n",
       "</table>\n",
       "</div>"
      ],
      "text/plain": [
       "    id_1   id_2       cmp_fname_c1 cmp_fname_c2  cmp_lname_c1 cmp_lname_c2  \\\n",
       "0  37291  53113  0.833333333333333    0.0014771           1.0  0.000641026   \n",
       "1  39086  47614                  1    0.0014771           1.0  0.000641026   \n",
       "2  70031  70237                  1    0.0014771           1.0  0.000641026   \n",
       "3  84795  97439                  1    0.0014771           1.0  0.000641026   \n",
       "4  36950  42116                  1    0.0014771           1.0            1   \n",
       "\n",
       "   cmp_sex cmp_bd cmp_bm cmp_by cmp_plz  is_match  \n",
       "0        1      1      1      1       0      True  \n",
       "1        1      1      1      1       1      True  \n",
       "2        1      1      1      1       1      True  \n",
       "3        1      1      1      1       1      True  \n",
       "4        1      1      1      1       1      True  "
      ]
     },
     "execution_count": 8,
     "metadata": {},
     "output_type": "execute_result"
    }
   ],
   "source": [
    "frame.head()"
   ]
  },
  {
   "cell_type": "code",
   "execution_count": 9,
   "metadata": {},
   "outputs": [
    {
     "data": {
      "text/html": [
       "<div>\n",
       "<style scoped>\n",
       "    .dataframe tbody tr th:only-of-type {\n",
       "        vertical-align: middle;\n",
       "    }\n",
       "\n",
       "    .dataframe tbody tr th {\n",
       "        vertical-align: top;\n",
       "    }\n",
       "\n",
       "    .dataframe thead th {\n",
       "        text-align: right;\n",
       "    }\n",
       "</style>\n",
       "<table border=\"1\" class=\"dataframe\">\n",
       "  <thead>\n",
       "    <tr style=\"text-align: right;\">\n",
       "      <th></th>\n",
       "      <th>id_1</th>\n",
       "      <th>id_2</th>\n",
       "      <th>cmp_fname_c1</th>\n",
       "      <th>cmp_fname_c2</th>\n",
       "      <th>cmp_lname_c1</th>\n",
       "      <th>cmp_lname_c2</th>\n",
       "      <th>cmp_sex</th>\n",
       "      <th>cmp_bd</th>\n",
       "      <th>cmp_bm</th>\n",
       "      <th>cmp_by</th>\n",
       "      <th>cmp_plz</th>\n",
       "      <th>is_match</th>\n",
       "    </tr>\n",
       "  </thead>\n",
       "  <tbody>\n",
       "    <tr>\n",
       "      <th>574908</th>\n",
       "      <td>32517</td>\n",
       "      <td>73116</td>\n",
       "      <td>1</td>\n",
       "      <td>0.0014771</td>\n",
       "      <td>0.222222</td>\n",
       "      <td>0.000641026</td>\n",
       "      <td>1</td>\n",
       "      <td>0</td>\n",
       "      <td>1</td>\n",
       "      <td>0</td>\n",
       "      <td>0</td>\n",
       "      <td>False</td>\n",
       "    </tr>\n",
       "    <tr>\n",
       "      <th>574909</th>\n",
       "      <td>67707</td>\n",
       "      <td>83757</td>\n",
       "      <td>0.111111111111111</td>\n",
       "      <td>0.0014771</td>\n",
       "      <td>1.000000</td>\n",
       "      <td>0.000641026</td>\n",
       "      <td>1</td>\n",
       "      <td>0</td>\n",
       "      <td>0</td>\n",
       "      <td>0</td>\n",
       "      <td>0</td>\n",
       "      <td>False</td>\n",
       "    </tr>\n",
       "    <tr>\n",
       "      <th>574910</th>\n",
       "      <td>53258</td>\n",
       "      <td>91808</td>\n",
       "      <td>1</td>\n",
       "      <td>0.0014771</td>\n",
       "      <td>0.000000</td>\n",
       "      <td>0.000641026</td>\n",
       "      <td>1</td>\n",
       "      <td>0</td>\n",
       "      <td>0</td>\n",
       "      <td>1</td>\n",
       "      <td>0</td>\n",
       "      <td>False</td>\n",
       "    </tr>\n",
       "    <tr>\n",
       "      <th>574911</th>\n",
       "      <td>31865</td>\n",
       "      <td>85285</td>\n",
       "      <td>1</td>\n",
       "      <td>0.0014771</td>\n",
       "      <td>0.111111</td>\n",
       "      <td>0.000641026</td>\n",
       "      <td>1</td>\n",
       "      <td>0</td>\n",
       "      <td>1</td>\n",
       "      <td>0</td>\n",
       "      <td>0</td>\n",
       "      <td>False</td>\n",
       "    </tr>\n",
       "    <tr>\n",
       "      <th>574912</th>\n",
       "      <td>33119</td>\n",
       "      <td>76399</td>\n",
       "      <td>1</td>\n",
       "      <td>0.0014771</td>\n",
       "      <td>0.000000</td>\n",
       "      <td>0.000641026</td>\n",
       "      <td>1</td>\n",
       "      <td>0</td>\n",
       "      <td>1</td>\n",
       "      <td>0</td>\n",
       "      <td>0</td>\n",
       "      <td>False</td>\n",
       "    </tr>\n",
       "  </tbody>\n",
       "</table>\n",
       "</div>"
      ],
      "text/plain": [
       "         id_1   id_2       cmp_fname_c1 cmp_fname_c2  cmp_lname_c1  \\\n",
       "574908  32517  73116                  1    0.0014771      0.222222   \n",
       "574909  67707  83757  0.111111111111111    0.0014771      1.000000   \n",
       "574910  53258  91808                  1    0.0014771      0.000000   \n",
       "574911  31865  85285                  1    0.0014771      0.111111   \n",
       "574912  33119  76399                  1    0.0014771      0.000000   \n",
       "\n",
       "       cmp_lname_c2  cmp_sex cmp_bd cmp_bm cmp_by cmp_plz  is_match  \n",
       "574908  0.000641026        1      0      1      0       0     False  \n",
       "574909  0.000641026        1      0      0      0       0     False  \n",
       "574910  0.000641026        1      0      0      1       0     False  \n",
       "574911  0.000641026        1      0      1      0       0     False  \n",
       "574912  0.000641026        1      0      1      0       0     False  "
      ]
     },
     "execution_count": 9,
     "metadata": {},
     "output_type": "execute_result"
    }
   ],
   "source": [
    "frame.tail()"
   ]
  },
  {
   "cell_type": "markdown",
   "metadata": {},
   "source": [
    "#### Criação da coluna de alvos\n",
    "Para conseguir classificar os dados de acordo com coluna de alvos,\n",
    "onde o sklearn index valores numericos aos dados categoricos que deseja-se\n",
    "obter a predição."
   ]
  },
  {
   "cell_type": "code",
   "execution_count": 8,
   "metadata": {},
   "outputs": [],
   "source": [
    "def make_target_frame(df, target_column):\n",
    "    df_mod = df.copy()\n",
    "    targets = df_mod[target_column].unique()\n",
    "    map_to_int = {name: n for n, name in enumerate(targets)}\n",
    "    df_mod[\"Target\"] = df_mod[target_column].map({True:0, False:1})\n",
    "    return (df_mod, targets)\n",
    "df2, targets = make_target_frame(frame, \"is_match\")\n"
   ]
  },
  {
   "cell_type": "markdown",
   "metadata": {},
   "source": [
    "#### Exibição dos dados do Frame de alvos\n"
   ]
  },
  {
   "cell_type": "code",
   "execution_count": 9,
   "metadata": {},
   "outputs": [
    {
     "data": {
      "text/html": [
       "<div>\n",
       "<style scoped>\n",
       "    .dataframe tbody tr th:only-of-type {\n",
       "        vertical-align: middle;\n",
       "    }\n",
       "\n",
       "    .dataframe tbody tr th {\n",
       "        vertical-align: top;\n",
       "    }\n",
       "\n",
       "    .dataframe thead th {\n",
       "        text-align: right;\n",
       "    }\n",
       "</style>\n",
       "<table border=\"1\" class=\"dataframe\">\n",
       "  <thead>\n",
       "    <tr style=\"text-align: right;\">\n",
       "      <th></th>\n",
       "      <th>Target</th>\n",
       "      <th>is_match</th>\n",
       "    </tr>\n",
       "  </thead>\n",
       "  <tbody>\n",
       "    <tr>\n",
       "      <th>0</th>\n",
       "      <td>0</td>\n",
       "      <td>True</td>\n",
       "    </tr>\n",
       "    <tr>\n",
       "      <th>1</th>\n",
       "      <td>0</td>\n",
       "      <td>True</td>\n",
       "    </tr>\n",
       "    <tr>\n",
       "      <th>2</th>\n",
       "      <td>0</td>\n",
       "      <td>True</td>\n",
       "    </tr>\n",
       "    <tr>\n",
       "      <th>3</th>\n",
       "      <td>0</td>\n",
       "      <td>True</td>\n",
       "    </tr>\n",
       "    <tr>\n",
       "      <th>4</th>\n",
       "      <td>0</td>\n",
       "      <td>True</td>\n",
       "    </tr>\n",
       "  </tbody>\n",
       "</table>\n",
       "</div>"
      ],
      "text/plain": [
       "   Target  is_match\n",
       "0       0      True\n",
       "1       0      True\n",
       "2       0      True\n",
       "3       0      True\n",
       "4       0      True"
      ]
     },
     "execution_count": 9,
     "metadata": {},
     "output_type": "execute_result"
    }
   ],
   "source": [
    "df2[[\"Target\", \"is_match\"]].head()\n"
   ]
  },
  {
   "cell_type": "code",
   "execution_count": 10,
   "metadata": {},
   "outputs": [
    {
     "data": {
      "text/html": [
       "<div>\n",
       "<style scoped>\n",
       "    .dataframe tbody tr th:only-of-type {\n",
       "        vertical-align: middle;\n",
       "    }\n",
       "\n",
       "    .dataframe tbody tr th {\n",
       "        vertical-align: top;\n",
       "    }\n",
       "\n",
       "    .dataframe thead th {\n",
       "        text-align: right;\n",
       "    }\n",
       "</style>\n",
       "<table border=\"1\" class=\"dataframe\">\n",
       "  <thead>\n",
       "    <tr style=\"text-align: right;\">\n",
       "      <th></th>\n",
       "      <th>Target</th>\n",
       "      <th>is_match</th>\n",
       "    </tr>\n",
       "  </thead>\n",
       "  <tbody>\n",
       "    <tr>\n",
       "      <th>574908</th>\n",
       "      <td>1</td>\n",
       "      <td>False</td>\n",
       "    </tr>\n",
       "    <tr>\n",
       "      <th>574909</th>\n",
       "      <td>1</td>\n",
       "      <td>False</td>\n",
       "    </tr>\n",
       "    <tr>\n",
       "      <th>574910</th>\n",
       "      <td>1</td>\n",
       "      <td>False</td>\n",
       "    </tr>\n",
       "    <tr>\n",
       "      <th>574911</th>\n",
       "      <td>1</td>\n",
       "      <td>False</td>\n",
       "    </tr>\n",
       "    <tr>\n",
       "      <th>574912</th>\n",
       "      <td>1</td>\n",
       "      <td>False</td>\n",
       "    </tr>\n",
       "  </tbody>\n",
       "</table>\n",
       "</div>"
      ],
      "text/plain": [
       "        Target  is_match\n",
       "574908       1     False\n",
       "574909       1     False\n",
       "574910       1     False\n",
       "574911       1     False\n",
       "574912       1     False"
      ]
     },
     "execution_count": 10,
     "metadata": {},
     "output_type": "execute_result"
    }
   ],
   "source": [
    "df2[[\"Target\", \"is_match\"]].tail()\n"
   ]
  }
 ],
 "metadata": {
  "kernelspec": {
   "display_name": "Python 3",
   "language": "python",
   "name": "python3"
  },
  "language_info": {
   "codemirror_mode": {
    "name": "ipython",
    "version": 3
   },
   "file_extension": ".py",
   "mimetype": "text/x-python",
   "name": "python",
   "nbconvert_exporter": "python",
   "pygments_lexer": "ipython3",
   "version": "3.5.2"
  }
 },
 "nbformat": 4,
 "nbformat_minor": 2
}
