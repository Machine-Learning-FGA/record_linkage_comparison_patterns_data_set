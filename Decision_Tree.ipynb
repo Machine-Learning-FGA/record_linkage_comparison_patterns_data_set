{
 "cells": [
  {
   "cell_type": "code",
   "execution_count": 1,
   "metadata": {},
   "outputs": [],
   "source": [
    "import pandas as pd\n",
    "import numpy as np\n",
    "from  graphviz import Source\n",
    "from scipy import misc\n",
    "from sklearn.tree import DecisionTreeClassifier, export_graphviz\n",
    "from sklearn.model_selection import train_test_split\n",
    "from sklearn.metrics import accuracy_score, confusion_matrix, classification_report, precision_score, recall_score, hamming_loss\n",
    "import matplotlib.pyplot as plt\n",
    "import seaborn as sns"
   ]
  },
  {
   "cell_type": "markdown",
   "metadata": {},
   "source": [
    "#### Importar dados para analise\n",
    "Para iniciar a analise dos dados primeiro necessita-se\n",
    "importar esse dados, os .csv encontrados abaixo são os dados disponibilizados\n",
    "[aqui](https://archive.ics.uci.edu/ml/datasets/record+linkage+comparison+patterns).\n",
    "Após carregar cada um dos dados .csv unimos em um unico frame do pandas."
   ]
  },
  {
   "cell_type": "code",
   "execution_count": 2,
   "metadata": {},
   "outputs": [],
   "source": [
    "dataframe = pd.DataFrame()\n",
    "for x in range(1,11):\n",
    "    dataframe_name = 'data/block_'+str(x)+'.csv'\n",
    "    new_dataframe = pd.read_csv(dataframe_name)\n",
    "    dataframe = pd.concat([dataframe,new_dataframe])\n",
    "\n",
    "frame = dataframe"
   ]
  },
  {
   "cell_type": "markdown",
   "metadata": {},
   "source": [
    "#### Exibir Frame\n",
    "Exibir resultado do merge dos frames.."
   ]
  },
  {
   "cell_type": "code",
   "execution_count": 3,
   "metadata": {},
   "outputs": [
    {
     "data": {
      "text/html": [
       "<div>\n",
       "<style scoped>\n",
       "    .dataframe tbody tr th:only-of-type {\n",
       "        vertical-align: middle;\n",
       "    }\n",
       "\n",
       "    .dataframe tbody tr th {\n",
       "        vertical-align: top;\n",
       "    }\n",
       "\n",
       "    .dataframe thead th {\n",
       "        text-align: right;\n",
       "    }\n",
       "</style>\n",
       "<table border=\"1\" class=\"dataframe\">\n",
       "  <thead>\n",
       "    <tr style=\"text-align: right;\">\n",
       "      <th></th>\n",
       "      <th>id_1</th>\n",
       "      <th>id_2</th>\n",
       "      <th>cmp_fname_c1</th>\n",
       "      <th>cmp_fname_c2</th>\n",
       "      <th>cmp_lname_c1</th>\n",
       "      <th>cmp_lname_c2</th>\n",
       "      <th>cmp_sex</th>\n",
       "      <th>cmp_bd</th>\n",
       "      <th>cmp_bm</th>\n",
       "      <th>cmp_by</th>\n",
       "      <th>cmp_plz</th>\n",
       "      <th>is_match</th>\n",
       "    </tr>\n",
       "  </thead>\n",
       "  <tbody>\n",
       "    <tr>\n",
       "      <th>0</th>\n",
       "      <td>37291</td>\n",
       "      <td>53113</td>\n",
       "      <td>0.833333333333333</td>\n",
       "      <td>?</td>\n",
       "      <td>1.0</td>\n",
       "      <td>?</td>\n",
       "      <td>1</td>\n",
       "      <td>1</td>\n",
       "      <td>1</td>\n",
       "      <td>1</td>\n",
       "      <td>0</td>\n",
       "      <td>True</td>\n",
       "    </tr>\n",
       "    <tr>\n",
       "      <th>1</th>\n",
       "      <td>39086</td>\n",
       "      <td>47614</td>\n",
       "      <td>1</td>\n",
       "      <td>?</td>\n",
       "      <td>1.0</td>\n",
       "      <td>?</td>\n",
       "      <td>1</td>\n",
       "      <td>1</td>\n",
       "      <td>1</td>\n",
       "      <td>1</td>\n",
       "      <td>1</td>\n",
       "      <td>True</td>\n",
       "    </tr>\n",
       "    <tr>\n",
       "      <th>2</th>\n",
       "      <td>70031</td>\n",
       "      <td>70237</td>\n",
       "      <td>1</td>\n",
       "      <td>?</td>\n",
       "      <td>1.0</td>\n",
       "      <td>?</td>\n",
       "      <td>1</td>\n",
       "      <td>1</td>\n",
       "      <td>1</td>\n",
       "      <td>1</td>\n",
       "      <td>1</td>\n",
       "      <td>True</td>\n",
       "    </tr>\n",
       "    <tr>\n",
       "      <th>3</th>\n",
       "      <td>84795</td>\n",
       "      <td>97439</td>\n",
       "      <td>1</td>\n",
       "      <td>?</td>\n",
       "      <td>1.0</td>\n",
       "      <td>?</td>\n",
       "      <td>1</td>\n",
       "      <td>1</td>\n",
       "      <td>1</td>\n",
       "      <td>1</td>\n",
       "      <td>1</td>\n",
       "      <td>True</td>\n",
       "    </tr>\n",
       "    <tr>\n",
       "      <th>4</th>\n",
       "      <td>36950</td>\n",
       "      <td>42116</td>\n",
       "      <td>1</td>\n",
       "      <td>?</td>\n",
       "      <td>1.0</td>\n",
       "      <td>1</td>\n",
       "      <td>1</td>\n",
       "      <td>1</td>\n",
       "      <td>1</td>\n",
       "      <td>1</td>\n",
       "      <td>1</td>\n",
       "      <td>True</td>\n",
       "    </tr>\n",
       "  </tbody>\n",
       "</table>\n",
       "</div>"
      ],
      "text/plain": [
       "    id_1   id_2       cmp_fname_c1 cmp_fname_c2  cmp_lname_c1 cmp_lname_c2  \\\n",
       "0  37291  53113  0.833333333333333            ?           1.0            ?   \n",
       "1  39086  47614                  1            ?           1.0            ?   \n",
       "2  70031  70237                  1            ?           1.0            ?   \n",
       "3  84795  97439                  1            ?           1.0            ?   \n",
       "4  36950  42116                  1            ?           1.0            1   \n",
       "\n",
       "   cmp_sex cmp_bd cmp_bm cmp_by cmp_plz  is_match  \n",
       "0        1      1      1      1       0      True  \n",
       "1        1      1      1      1       1      True  \n",
       "2        1      1      1      1       1      True  \n",
       "3        1      1      1      1       1      True  \n",
       "4        1      1      1      1       1      True  "
      ]
     },
     "execution_count": 3,
     "metadata": {},
     "output_type": "execute_result"
    }
   ],
   "source": [
    "frame.head()"
   ]
  },
  {
   "cell_type": "code",
   "execution_count": 4,
   "metadata": {},
   "outputs": [
    {
     "data": {
      "text/html": [
       "<div>\n",
       "<style scoped>\n",
       "    .dataframe tbody tr th:only-of-type {\n",
       "        vertical-align: middle;\n",
       "    }\n",
       "\n",
       "    .dataframe tbody tr th {\n",
       "        vertical-align: top;\n",
       "    }\n",
       "\n",
       "    .dataframe thead th {\n",
       "        text-align: right;\n",
       "    }\n",
       "</style>\n",
       "<table border=\"1\" class=\"dataframe\">\n",
       "  <thead>\n",
       "    <tr style=\"text-align: right;\">\n",
       "      <th></th>\n",
       "      <th>id_1</th>\n",
       "      <th>id_2</th>\n",
       "      <th>cmp_fname_c1</th>\n",
       "      <th>cmp_fname_c2</th>\n",
       "      <th>cmp_lname_c1</th>\n",
       "      <th>cmp_lname_c2</th>\n",
       "      <th>cmp_sex</th>\n",
       "      <th>cmp_bd</th>\n",
       "      <th>cmp_bm</th>\n",
       "      <th>cmp_by</th>\n",
       "      <th>cmp_plz</th>\n",
       "      <th>is_match</th>\n",
       "    </tr>\n",
       "  </thead>\n",
       "  <tbody>\n",
       "    <tr>\n",
       "      <th>574908</th>\n",
       "      <td>32517</td>\n",
       "      <td>73116</td>\n",
       "      <td>1</td>\n",
       "      <td>?</td>\n",
       "      <td>0.222222</td>\n",
       "      <td>?</td>\n",
       "      <td>1</td>\n",
       "      <td>0</td>\n",
       "      <td>1</td>\n",
       "      <td>0</td>\n",
       "      <td>0</td>\n",
       "      <td>False</td>\n",
       "    </tr>\n",
       "    <tr>\n",
       "      <th>574909</th>\n",
       "      <td>67707</td>\n",
       "      <td>83757</td>\n",
       "      <td>0.111111111111111</td>\n",
       "      <td>?</td>\n",
       "      <td>1.000000</td>\n",
       "      <td>?</td>\n",
       "      <td>1</td>\n",
       "      <td>0</td>\n",
       "      <td>0</td>\n",
       "      <td>0</td>\n",
       "      <td>0</td>\n",
       "      <td>False</td>\n",
       "    </tr>\n",
       "    <tr>\n",
       "      <th>574910</th>\n",
       "      <td>53258</td>\n",
       "      <td>91808</td>\n",
       "      <td>1</td>\n",
       "      <td>?</td>\n",
       "      <td>0.000000</td>\n",
       "      <td>?</td>\n",
       "      <td>1</td>\n",
       "      <td>0</td>\n",
       "      <td>0</td>\n",
       "      <td>1</td>\n",
       "      <td>0</td>\n",
       "      <td>False</td>\n",
       "    </tr>\n",
       "    <tr>\n",
       "      <th>574911</th>\n",
       "      <td>31865</td>\n",
       "      <td>85285</td>\n",
       "      <td>1</td>\n",
       "      <td>?</td>\n",
       "      <td>0.111111</td>\n",
       "      <td>?</td>\n",
       "      <td>1</td>\n",
       "      <td>0</td>\n",
       "      <td>1</td>\n",
       "      <td>0</td>\n",
       "      <td>0</td>\n",
       "      <td>False</td>\n",
       "    </tr>\n",
       "    <tr>\n",
       "      <th>574912</th>\n",
       "      <td>33119</td>\n",
       "      <td>76399</td>\n",
       "      <td>1</td>\n",
       "      <td>?</td>\n",
       "      <td>0.000000</td>\n",
       "      <td>?</td>\n",
       "      <td>1</td>\n",
       "      <td>0</td>\n",
       "      <td>1</td>\n",
       "      <td>0</td>\n",
       "      <td>0</td>\n",
       "      <td>False</td>\n",
       "    </tr>\n",
       "  </tbody>\n",
       "</table>\n",
       "</div>"
      ],
      "text/plain": [
       "         id_1   id_2       cmp_fname_c1 cmp_fname_c2  cmp_lname_c1  \\\n",
       "574908  32517  73116                  1            ?      0.222222   \n",
       "574909  67707  83757  0.111111111111111            ?      1.000000   \n",
       "574910  53258  91808                  1            ?      0.000000   \n",
       "574911  31865  85285                  1            ?      0.111111   \n",
       "574912  33119  76399                  1            ?      0.000000   \n",
       "\n",
       "       cmp_lname_c2  cmp_sex cmp_bd cmp_bm cmp_by cmp_plz  is_match  \n",
       "574908            ?        1      0      1      0       0     False  \n",
       "574909            ?        1      0      0      0       0     False  \n",
       "574910            ?        1      0      0      1       0     False  \n",
       "574911            ?        1      0      1      0       0     False  \n",
       "574912            ?        1      0      1      0       0     False  "
      ]
     },
     "execution_count": 4,
     "metadata": {},
     "output_type": "execute_result"
    }
   ],
   "source": [
    "frame.tail()"
   ]
  },
  {
   "cell_type": "markdown",
   "metadata": {},
   "source": [
    "#### Arrumando tipos de dados"
   ]
  },
  {
   "cell_type": "code",
   "execution_count": 5,
   "metadata": {},
   "outputs": [],
   "source": [
    "broken_columns = list(frame.columns[2:11])\n",
    "\n",
    "for column in broken_columns:\n",
    "    frame[column] = frame[column].apply(lambda x: np.NaN if x == '?' else x)\n",
    "    frame[column] = frame[column].apply(lambda x: float(x) if type(x) == str else x)"
   ]
  },
  {
   "cell_type": "code",
   "execution_count": 6,
   "metadata": {},
   "outputs": [],
   "source": [
    "imp_values = frame.drop(['id_1','id_2'],axis=1,inplace=True)"
   ]
  },
  {
   "cell_type": "markdown",
   "metadata": {},
   "source": [
    "#### Verificando a existência de valores nulos"
   ]
  },
  {
   "cell_type": "code",
   "execution_count": null,
   "metadata": {},
   "outputs": [],
   "source": [
    "melted_frame = pd.melt(imp_values.notnull())"
   ]
  },
  {
   "cell_type": "code",
   "execution_count": null,
   "metadata": {},
   "outputs": [],
   "source": [
    "plt.figure(figsize=(15,4))\n",
    "sns.countplot(melted_frame['variable'],hue=melted_frame['value'])\n",
    "plt.tight_layout()"
   ]
  },
  {
   "cell_type": "markdown",
   "metadata": {},
   "source": [
    "No gráfico acima as barras em azul representam o número de valores nulos de cada coluna"
   ]
  },
  {
   "cell_type": "code",
   "execution_count": null,
   "metadata": {},
   "outputs": [],
   "source": [
    "sns.heatmap(frame.drop(['id_1','id_2'],axis=1).isnull(),cbar=False,yticklabels=False)"
   ]
  },
  {
   "cell_type": "markdown",
   "metadata": {},
   "source": [
    "Acima vemos outro gráfico que representa a quantidade de valores nulos de cada coluna. Nesse caso as partes claras\n",
    "representam os valores faltantes"
   ]
  },
  {
   "cell_type": "markdown",
   "metadata": {},
   "source": [
    "#### Removendo colunas vazias\n",
    "Com o resultado da exibição do head e d tail do frame, observa-se a existencia de colunas\n",
    "com dados nulos, para a utilização do do sklearn para a criação da arvore de decisão é \n",
    "necesario remover os dados em branco, ou no caso do dataset do problema os dados com valor '?',\n",
    "para isso utilizamos o arquivo frequencies.cvs disponibilizado no dataset do problema, para fazer a substituição\n",
    "dos valores nulos para a media dos valores da coluna."
   ]
  },
  {
   "cell_type": "markdown",
   "metadata": {},
   "source": [
    "Removendo colunas desnecessario para aplicar o modelo."
   ]
  },
  {
   "cell_type": "code",
   "execution_count": 7,
   "metadata": {},
   "outputs": [
    {
     "data": {
      "text/html": [
       "<div>\n",
       "<style scoped>\n",
       "    .dataframe tbody tr th:only-of-type {\n",
       "        vertical-align: middle;\n",
       "    }\n",
       "\n",
       "    .dataframe tbody tr th {\n",
       "        vertical-align: top;\n",
       "    }\n",
       "\n",
       "    .dataframe thead th {\n",
       "        text-align: right;\n",
       "    }\n",
       "</style>\n",
       "<table border=\"1\" class=\"dataframe\">\n",
       "  <thead>\n",
       "    <tr style=\"text-align: right;\">\n",
       "      <th></th>\n",
       "      <th>cmp_fname_c1</th>\n",
       "      <th>cmp_lname_c1</th>\n",
       "      <th>cmp_sex</th>\n",
       "      <th>cmp_bd</th>\n",
       "      <th>cmp_bm</th>\n",
       "      <th>cmp_by</th>\n",
       "      <th>cmp_plz</th>\n",
       "      <th>is_match</th>\n",
       "    </tr>\n",
       "  </thead>\n",
       "  <tbody>\n",
       "    <tr>\n",
       "      <th>0</th>\n",
       "      <td>0.833333</td>\n",
       "      <td>1.0</td>\n",
       "      <td>1</td>\n",
       "      <td>1.0</td>\n",
       "      <td>1.0</td>\n",
       "      <td>1.0</td>\n",
       "      <td>0.0</td>\n",
       "      <td>True</td>\n",
       "    </tr>\n",
       "    <tr>\n",
       "      <th>1</th>\n",
       "      <td>1.000000</td>\n",
       "      <td>1.0</td>\n",
       "      <td>1</td>\n",
       "      <td>1.0</td>\n",
       "      <td>1.0</td>\n",
       "      <td>1.0</td>\n",
       "      <td>1.0</td>\n",
       "      <td>True</td>\n",
       "    </tr>\n",
       "    <tr>\n",
       "      <th>2</th>\n",
       "      <td>1.000000</td>\n",
       "      <td>1.0</td>\n",
       "      <td>1</td>\n",
       "      <td>1.0</td>\n",
       "      <td>1.0</td>\n",
       "      <td>1.0</td>\n",
       "      <td>1.0</td>\n",
       "      <td>True</td>\n",
       "    </tr>\n",
       "    <tr>\n",
       "      <th>3</th>\n",
       "      <td>1.000000</td>\n",
       "      <td>1.0</td>\n",
       "      <td>1</td>\n",
       "      <td>1.0</td>\n",
       "      <td>1.0</td>\n",
       "      <td>1.0</td>\n",
       "      <td>1.0</td>\n",
       "      <td>True</td>\n",
       "    </tr>\n",
       "    <tr>\n",
       "      <th>4</th>\n",
       "      <td>1.000000</td>\n",
       "      <td>1.0</td>\n",
       "      <td>1</td>\n",
       "      <td>1.0</td>\n",
       "      <td>1.0</td>\n",
       "      <td>1.0</td>\n",
       "      <td>1.0</td>\n",
       "      <td>True</td>\n",
       "    </tr>\n",
       "  </tbody>\n",
       "</table>\n",
       "</div>"
      ],
      "text/plain": [
       "   cmp_fname_c1  cmp_lname_c1  cmp_sex  cmp_bd  cmp_bm  cmp_by  cmp_plz  \\\n",
       "0      0.833333           1.0        1     1.0     1.0     1.0      0.0   \n",
       "1      1.000000           1.0        1     1.0     1.0     1.0      1.0   \n",
       "2      1.000000           1.0        1     1.0     1.0     1.0      1.0   \n",
       "3      1.000000           1.0        1     1.0     1.0     1.0      1.0   \n",
       "4      1.000000           1.0        1     1.0     1.0     1.0      1.0   \n",
       "\n",
       "   is_match  \n",
       "0      True  \n",
       "1      True  \n",
       "2      True  \n",
       "3      True  \n",
       "4      True  "
      ]
     },
     "execution_count": 7,
     "metadata": {},
     "output_type": "execute_result"
    }
   ],
   "source": [
    "frame.drop(['cmp_fname_c2','cmp_lname_c2'],axis=1,inplace=True)\n",
    "frame.head()"
   ]
  },
  {
   "cell_type": "markdown",
   "metadata": {},
   "source": [
    "Aplicando as medias para os demais valores faltantes dos frames."
   ]
  },
  {
   "cell_type": "code",
   "execution_count": 8,
   "metadata": {},
   "outputs": [],
   "source": [
    "def preparer_data(frame):\n",
    "    frame[\"cmp_fname_c1\"] = frame[\"cmp_fname_c1\"].replace(np.NaN,0.000235404896421846)\n",
    "    frame[\"cmp_lname_c1\"] = frame[\"cmp_lname_c1\"].replace(np.NaN,2.68694413843136e-05)\n",
    "    frame[\"cmp_sex\"] = frame[\"cmp_sex\"].replace(np.NaN,0.5)\n",
    "    frame[\"cmp_bd\"] = frame[\"cmp_bd\"].replace(np.NaN,0.032258064516129)\n",
    "    frame[\"cmp_bm\"] = frame[\"cmp_bm\"].replace(np.NaN,0.0833333333333333)\n",
    "    frame[\"cmp_by\"] = frame[\"cmp_by\"].replace(np.NaN, 0.00943396226415094)\n",
    "    frame[\"cmp_plz\"] = frame[\"cmp_plz\"].replace(np.NaN, 0.000422654268808115)\n",
    "    \n",
    "    return frame\n",
    "\n",
    "frame = preparer_data(frame)\n"
   ]
  },
  {
   "cell_type": "markdown",
   "metadata": {},
   "source": [
    "#### Criação da coluna de alvos\n",
    "Para conseguir classificar os dados de acordo com coluna de alvos,\n",
    "onde o sklearn index valores numericos aos dados categoricos que deseja-se\n",
    "obter a predição."
   ]
  },
  {
   "cell_type": "code",
   "execution_count": 9,
   "metadata": {},
   "outputs": [],
   "source": [
    "def make_target_frame(frame, target_column):\n",
    "    df_mod = frame.copy()\n",
    "    targets = df_mod[target_column].unique()\n",
    "    map_to_int = {name: n for n, name in enumerate(targets)}\n",
    "    df_mod[\"Target\"] = df_mod[target_column].map({True:1, False:0})\n",
    "    return (df_mod, targets)\n",
    "df2, targets = make_target_frame(frame, \"is_match\")\n"
   ]
  },
  {
   "cell_type": "markdown",
   "metadata": {},
   "source": [
    "#### Exibição dos dados do Frame de alvos\n"
   ]
  },
  {
   "cell_type": "code",
   "execution_count": 10,
   "metadata": {},
   "outputs": [
    {
     "data": {
      "text/html": [
       "<div>\n",
       "<style scoped>\n",
       "    .dataframe tbody tr th:only-of-type {\n",
       "        vertical-align: middle;\n",
       "    }\n",
       "\n",
       "    .dataframe tbody tr th {\n",
       "        vertical-align: top;\n",
       "    }\n",
       "\n",
       "    .dataframe thead th {\n",
       "        text-align: right;\n",
       "    }\n",
       "</style>\n",
       "<table border=\"1\" class=\"dataframe\">\n",
       "  <thead>\n",
       "    <tr style=\"text-align: right;\">\n",
       "      <th></th>\n",
       "      <th>Target</th>\n",
       "      <th>is_match</th>\n",
       "    </tr>\n",
       "  </thead>\n",
       "  <tbody>\n",
       "    <tr>\n",
       "      <th>0</th>\n",
       "      <td>1</td>\n",
       "      <td>True</td>\n",
       "    </tr>\n",
       "    <tr>\n",
       "      <th>1</th>\n",
       "      <td>1</td>\n",
       "      <td>True</td>\n",
       "    </tr>\n",
       "    <tr>\n",
       "      <th>2</th>\n",
       "      <td>1</td>\n",
       "      <td>True</td>\n",
       "    </tr>\n",
       "    <tr>\n",
       "      <th>3</th>\n",
       "      <td>1</td>\n",
       "      <td>True</td>\n",
       "    </tr>\n",
       "    <tr>\n",
       "      <th>4</th>\n",
       "      <td>1</td>\n",
       "      <td>True</td>\n",
       "    </tr>\n",
       "  </tbody>\n",
       "</table>\n",
       "</div>"
      ],
      "text/plain": [
       "   Target  is_match\n",
       "0       1      True\n",
       "1       1      True\n",
       "2       1      True\n",
       "3       1      True\n",
       "4       1      True"
      ]
     },
     "execution_count": 10,
     "metadata": {},
     "output_type": "execute_result"
    }
   ],
   "source": [
    "df2[[\"Target\", \"is_match\"]].head()\n"
   ]
  },
  {
   "cell_type": "code",
   "execution_count": 11,
   "metadata": {},
   "outputs": [
    {
     "data": {
      "text/html": [
       "<div>\n",
       "<style scoped>\n",
       "    .dataframe tbody tr th:only-of-type {\n",
       "        vertical-align: middle;\n",
       "    }\n",
       "\n",
       "    .dataframe tbody tr th {\n",
       "        vertical-align: top;\n",
       "    }\n",
       "\n",
       "    .dataframe thead th {\n",
       "        text-align: right;\n",
       "    }\n",
       "</style>\n",
       "<table border=\"1\" class=\"dataframe\">\n",
       "  <thead>\n",
       "    <tr style=\"text-align: right;\">\n",
       "      <th></th>\n",
       "      <th>Target</th>\n",
       "      <th>is_match</th>\n",
       "    </tr>\n",
       "  </thead>\n",
       "  <tbody>\n",
       "    <tr>\n",
       "      <th>574908</th>\n",
       "      <td>0</td>\n",
       "      <td>False</td>\n",
       "    </tr>\n",
       "    <tr>\n",
       "      <th>574909</th>\n",
       "      <td>0</td>\n",
       "      <td>False</td>\n",
       "    </tr>\n",
       "    <tr>\n",
       "      <th>574910</th>\n",
       "      <td>0</td>\n",
       "      <td>False</td>\n",
       "    </tr>\n",
       "    <tr>\n",
       "      <th>574911</th>\n",
       "      <td>0</td>\n",
       "      <td>False</td>\n",
       "    </tr>\n",
       "    <tr>\n",
       "      <th>574912</th>\n",
       "      <td>0</td>\n",
       "      <td>False</td>\n",
       "    </tr>\n",
       "  </tbody>\n",
       "</table>\n",
       "</div>"
      ],
      "text/plain": [
       "        Target  is_match\n",
       "574908       0     False\n",
       "574909       0     False\n",
       "574910       0     False\n",
       "574911       0     False\n",
       "574912       0     False"
      ]
     },
     "execution_count": 11,
     "metadata": {},
     "output_type": "execute_result"
    }
   ],
   "source": [
    "df2[[\"Target\", \"is_match\"]].tail()"
   ]
  },
  {
   "cell_type": "markdown",
   "metadata": {},
   "source": [
    "#### Verificando a existência de valores nulos"
   ]
  },
  {
   "cell_type": "code",
   "execution_count": 12,
   "metadata": {},
   "outputs": [
    {
     "data": {
      "text/plain": [
       "False"
      ]
     },
     "execution_count": 12,
     "metadata": {},
     "output_type": "execute_result"
    }
   ],
   "source": [
    "frame.isnull().values.any()"
   ]
  },
  {
   "cell_type": "code",
   "execution_count": 13,
   "metadata": {},
   "outputs": [
    {
     "name": "stdout",
     "output_type": "stream",
     "text": [
      "<class 'pandas.core.frame.DataFrame'>\n",
      "Int64Index: 5749132 entries, 0 to 574912\n",
      "Data columns (total 8 columns):\n",
      "cmp_fname_c1    float64\n",
      "cmp_lname_c1    float64\n",
      "cmp_sex         int64\n",
      "cmp_bd          float64\n",
      "cmp_bm          float64\n",
      "cmp_by          float64\n",
      "cmp_plz         float64\n",
      "is_match        bool\n",
      "dtypes: bool(1), float64(6), int64(1)\n",
      "memory usage: 356.4 MB\n"
     ]
    }
   ],
   "source": [
    "frame.info()"
   ]
  },
  {
   "cell_type": "markdown",
   "metadata": {},
   "source": [
    "Ainda para observar, se as demais features que irão realmente compor o modelo, iremos buscar a correlação entre elas,\n",
    "casos duas features tenham correlação muito alta, deverão ser desconsideradas no modelo, pois elas basicamente estariam \n",
    "trazendo a mesma informação ao modelo."
   ]
  },
  {
   "cell_type": "code",
   "execution_count": 14,
   "metadata": {},
   "outputs": [
    {
     "data": {
      "text/html": [
       "<div>\n",
       "<style scoped>\n",
       "    .dataframe tbody tr th:only-of-type {\n",
       "        vertical-align: middle;\n",
       "    }\n",
       "\n",
       "    .dataframe tbody tr th {\n",
       "        vertical-align: top;\n",
       "    }\n",
       "\n",
       "    .dataframe thead th {\n",
       "        text-align: right;\n",
       "    }\n",
       "</style>\n",
       "<table border=\"1\" class=\"dataframe\">\n",
       "  <thead>\n",
       "    <tr style=\"text-align: right;\">\n",
       "      <th></th>\n",
       "      <th>cmp_fname_c1</th>\n",
       "      <th>cmp_lname_c1</th>\n",
       "      <th>cmp_sex</th>\n",
       "      <th>cmp_bd</th>\n",
       "      <th>cmp_bm</th>\n",
       "      <th>cmp_by</th>\n",
       "      <th>cmp_plz</th>\n",
       "      <th>is_match</th>\n",
       "    </tr>\n",
       "  </thead>\n",
       "  <tbody>\n",
       "    <tr>\n",
       "      <th>cmp_fname_c1</th>\n",
       "      <td>1.000000</td>\n",
       "      <td>-0.668145</td>\n",
       "      <td>0.151666</td>\n",
       "      <td>0.016742</td>\n",
       "      <td>0.274531</td>\n",
       "      <td>0.033493</td>\n",
       "      <td>0.031607</td>\n",
       "      <td>0.044168</td>\n",
       "    </tr>\n",
       "    <tr>\n",
       "      <th>cmp_lname_c1</th>\n",
       "      <td>-0.668145</td>\n",
       "      <td>1.000000</td>\n",
       "      <td>0.109754</td>\n",
       "      <td>-0.210898</td>\n",
       "      <td>-0.392630</td>\n",
       "      <td>-0.219032</td>\n",
       "      <td>0.101822</td>\n",
       "      <td>0.123234</td>\n",
       "    </tr>\n",
       "    <tr>\n",
       "      <th>cmp_sex</th>\n",
       "      <td>0.151666</td>\n",
       "      <td>0.109754</td>\n",
       "      <td>1.000000</td>\n",
       "      <td>-0.242386</td>\n",
       "      <td>-0.151130</td>\n",
       "      <td>-0.239898</td>\n",
       "      <td>0.008734</td>\n",
       "      <td>0.009416</td>\n",
       "    </tr>\n",
       "    <tr>\n",
       "      <th>cmp_bd</th>\n",
       "      <td>0.016742</td>\n",
       "      <td>-0.210898</td>\n",
       "      <td>-0.242386</td>\n",
       "      <td>1.000000</td>\n",
       "      <td>-0.183648</td>\n",
       "      <td>0.072568</td>\n",
       "      <td>0.085247</td>\n",
       "      <td>0.111908</td>\n",
       "    </tr>\n",
       "    <tr>\n",
       "      <th>cmp_bm</th>\n",
       "      <td>0.274531</td>\n",
       "      <td>-0.392630</td>\n",
       "      <td>-0.151130</td>\n",
       "      <td>-0.183648</td>\n",
       "      <td>1.000000</td>\n",
       "      <td>-0.181056</td>\n",
       "      <td>0.045027</td>\n",
       "      <td>0.061539</td>\n",
       "    </tr>\n",
       "    <tr>\n",
       "      <th>cmp_by</th>\n",
       "      <td>0.033493</td>\n",
       "      <td>-0.219032</td>\n",
       "      <td>-0.239898</td>\n",
       "      <td>0.072568</td>\n",
       "      <td>-0.181056</td>\n",
       "      <td>1.000000</td>\n",
       "      <td>0.086154</td>\n",
       "      <td>0.112324</td>\n",
       "    </tr>\n",
       "    <tr>\n",
       "      <th>cmp_plz</th>\n",
       "      <td>0.031607</td>\n",
       "      <td>0.101822</td>\n",
       "      <td>0.008734</td>\n",
       "      <td>0.085247</td>\n",
       "      <td>0.045027</td>\n",
       "      <td>0.086154</td>\n",
       "      <td>1.000000</td>\n",
       "      <td>0.776620</td>\n",
       "    </tr>\n",
       "    <tr>\n",
       "      <th>is_match</th>\n",
       "      <td>0.044168</td>\n",
       "      <td>0.123234</td>\n",
       "      <td>0.009416</td>\n",
       "      <td>0.111908</td>\n",
       "      <td>0.061539</td>\n",
       "      <td>0.112324</td>\n",
       "      <td>0.776620</td>\n",
       "      <td>1.000000</td>\n",
       "    </tr>\n",
       "  </tbody>\n",
       "</table>\n",
       "</div>"
      ],
      "text/plain": [
       "              cmp_fname_c1  cmp_lname_c1   cmp_sex    cmp_bd    cmp_bm  \\\n",
       "cmp_fname_c1      1.000000     -0.668145  0.151666  0.016742  0.274531   \n",
       "cmp_lname_c1     -0.668145      1.000000  0.109754 -0.210898 -0.392630   \n",
       "cmp_sex           0.151666      0.109754  1.000000 -0.242386 -0.151130   \n",
       "cmp_bd            0.016742     -0.210898 -0.242386  1.000000 -0.183648   \n",
       "cmp_bm            0.274531     -0.392630 -0.151130 -0.183648  1.000000   \n",
       "cmp_by            0.033493     -0.219032 -0.239898  0.072568 -0.181056   \n",
       "cmp_plz           0.031607      0.101822  0.008734  0.085247  0.045027   \n",
       "is_match          0.044168      0.123234  0.009416  0.111908  0.061539   \n",
       "\n",
       "                cmp_by   cmp_plz  is_match  \n",
       "cmp_fname_c1  0.033493  0.031607  0.044168  \n",
       "cmp_lname_c1 -0.219032  0.101822  0.123234  \n",
       "cmp_sex      -0.239898  0.008734  0.009416  \n",
       "cmp_bd        0.072568  0.085247  0.111908  \n",
       "cmp_bm       -0.181056  0.045027  0.061539  \n",
       "cmp_by        1.000000  0.086154  0.112324  \n",
       "cmp_plz       0.086154  1.000000  0.776620  \n",
       "is_match      0.112324  0.776620  1.000000  "
      ]
     },
     "execution_count": 14,
     "metadata": {},
     "output_type": "execute_result"
    }
   ],
   "source": [
    "frame.corr()"
   ]
  },
  {
   "cell_type": "markdown",
   "metadata": {},
   "source": [
    "Partindo da tabela de correlação podemos intenficar, que os dados estão bem desacoplados, sendo assim podemos utilizalos no nosso modelo."
   ]
  },
  {
   "cell_type": "code",
   "execution_count": 15,
   "metadata": {},
   "outputs": [
    {
     "data": {
      "text/html": [
       "<div>\n",
       "<style scoped>\n",
       "    .dataframe tbody tr th:only-of-type {\n",
       "        vertical-align: middle;\n",
       "    }\n",
       "\n",
       "    .dataframe tbody tr th {\n",
       "        vertical-align: top;\n",
       "    }\n",
       "\n",
       "    .dataframe thead th {\n",
       "        text-align: right;\n",
       "    }\n",
       "</style>\n",
       "<table border=\"1\" class=\"dataframe\">\n",
       "  <thead>\n",
       "    <tr style=\"text-align: right;\">\n",
       "      <th></th>\n",
       "      <th>cmp_fname_c1</th>\n",
       "      <th>cmp_lname_c1</th>\n",
       "      <th>cmp_sex</th>\n",
       "      <th>cmp_bd</th>\n",
       "      <th>cmp_bm</th>\n",
       "      <th>cmp_by</th>\n",
       "      <th>cmp_plz</th>\n",
       "      <th>is_match</th>\n",
       "    </tr>\n",
       "  </thead>\n",
       "  <tbody>\n",
       "    <tr>\n",
       "      <th>0</th>\n",
       "      <td>0.833333</td>\n",
       "      <td>1.0</td>\n",
       "      <td>1</td>\n",
       "      <td>1.0</td>\n",
       "      <td>1.0</td>\n",
       "      <td>1.0</td>\n",
       "      <td>0.0</td>\n",
       "      <td>True</td>\n",
       "    </tr>\n",
       "    <tr>\n",
       "      <th>1</th>\n",
       "      <td>1.000000</td>\n",
       "      <td>1.0</td>\n",
       "      <td>1</td>\n",
       "      <td>1.0</td>\n",
       "      <td>1.0</td>\n",
       "      <td>1.0</td>\n",
       "      <td>1.0</td>\n",
       "      <td>True</td>\n",
       "    </tr>\n",
       "    <tr>\n",
       "      <th>2</th>\n",
       "      <td>1.000000</td>\n",
       "      <td>1.0</td>\n",
       "      <td>1</td>\n",
       "      <td>1.0</td>\n",
       "      <td>1.0</td>\n",
       "      <td>1.0</td>\n",
       "      <td>1.0</td>\n",
       "      <td>True</td>\n",
       "    </tr>\n",
       "    <tr>\n",
       "      <th>3</th>\n",
       "      <td>1.000000</td>\n",
       "      <td>1.0</td>\n",
       "      <td>1</td>\n",
       "      <td>1.0</td>\n",
       "      <td>1.0</td>\n",
       "      <td>1.0</td>\n",
       "      <td>1.0</td>\n",
       "      <td>True</td>\n",
       "    </tr>\n",
       "    <tr>\n",
       "      <th>4</th>\n",
       "      <td>1.000000</td>\n",
       "      <td>1.0</td>\n",
       "      <td>1</td>\n",
       "      <td>1.0</td>\n",
       "      <td>1.0</td>\n",
       "      <td>1.0</td>\n",
       "      <td>1.0</td>\n",
       "      <td>True</td>\n",
       "    </tr>\n",
       "  </tbody>\n",
       "</table>\n",
       "</div>"
      ],
      "text/plain": [
       "   cmp_fname_c1  cmp_lname_c1  cmp_sex  cmp_bd  cmp_bm  cmp_by  cmp_plz  \\\n",
       "0      0.833333           1.0        1     1.0     1.0     1.0      0.0   \n",
       "1      1.000000           1.0        1     1.0     1.0     1.0      1.0   \n",
       "2      1.000000           1.0        1     1.0     1.0     1.0      1.0   \n",
       "3      1.000000           1.0        1     1.0     1.0     1.0      1.0   \n",
       "4      1.000000           1.0        1     1.0     1.0     1.0      1.0   \n",
       "\n",
       "   is_match  \n",
       "0      True  \n",
       "1      True  \n",
       "2      True  \n",
       "3      True  \n",
       "4      True  "
      ]
     },
     "execution_count": 15,
     "metadata": {},
     "output_type": "execute_result"
    }
   ],
   "source": [
    "frame.head()"
   ]
  },
  {
   "cell_type": "code",
   "execution_count": 16,
   "metadata": {},
   "outputs": [
    {
     "data": {
      "text/html": [
       "<div>\n",
       "<style scoped>\n",
       "    .dataframe tbody tr th:only-of-type {\n",
       "        vertical-align: middle;\n",
       "    }\n",
       "\n",
       "    .dataframe tbody tr th {\n",
       "        vertical-align: top;\n",
       "    }\n",
       "\n",
       "    .dataframe thead th {\n",
       "        text-align: right;\n",
       "    }\n",
       "</style>\n",
       "<table border=\"1\" class=\"dataframe\">\n",
       "  <thead>\n",
       "    <tr style=\"text-align: right;\">\n",
       "      <th></th>\n",
       "      <th>cmp_fname_c1</th>\n",
       "      <th>cmp_lname_c1</th>\n",
       "      <th>cmp_sex</th>\n",
       "      <th>cmp_bd</th>\n",
       "      <th>cmp_bm</th>\n",
       "      <th>cmp_by</th>\n",
       "      <th>cmp_plz</th>\n",
       "      <th>is_match</th>\n",
       "    </tr>\n",
       "  </thead>\n",
       "  <tbody>\n",
       "    <tr>\n",
       "      <th>574908</th>\n",
       "      <td>1.000000</td>\n",
       "      <td>0.222222</td>\n",
       "      <td>1</td>\n",
       "      <td>0.0</td>\n",
       "      <td>1.0</td>\n",
       "      <td>0.0</td>\n",
       "      <td>0.0</td>\n",
       "      <td>False</td>\n",
       "    </tr>\n",
       "    <tr>\n",
       "      <th>574909</th>\n",
       "      <td>0.111111</td>\n",
       "      <td>1.000000</td>\n",
       "      <td>1</td>\n",
       "      <td>0.0</td>\n",
       "      <td>0.0</td>\n",
       "      <td>0.0</td>\n",
       "      <td>0.0</td>\n",
       "      <td>False</td>\n",
       "    </tr>\n",
       "    <tr>\n",
       "      <th>574910</th>\n",
       "      <td>1.000000</td>\n",
       "      <td>0.000000</td>\n",
       "      <td>1</td>\n",
       "      <td>0.0</td>\n",
       "      <td>0.0</td>\n",
       "      <td>1.0</td>\n",
       "      <td>0.0</td>\n",
       "      <td>False</td>\n",
       "    </tr>\n",
       "    <tr>\n",
       "      <th>574911</th>\n",
       "      <td>1.000000</td>\n",
       "      <td>0.111111</td>\n",
       "      <td>1</td>\n",
       "      <td>0.0</td>\n",
       "      <td>1.0</td>\n",
       "      <td>0.0</td>\n",
       "      <td>0.0</td>\n",
       "      <td>False</td>\n",
       "    </tr>\n",
       "    <tr>\n",
       "      <th>574912</th>\n",
       "      <td>1.000000</td>\n",
       "      <td>0.000000</td>\n",
       "      <td>1</td>\n",
       "      <td>0.0</td>\n",
       "      <td>1.0</td>\n",
       "      <td>0.0</td>\n",
       "      <td>0.0</td>\n",
       "      <td>False</td>\n",
       "    </tr>\n",
       "  </tbody>\n",
       "</table>\n",
       "</div>"
      ],
      "text/plain": [
       "        cmp_fname_c1  cmp_lname_c1  cmp_sex  cmp_bd  cmp_bm  cmp_by  cmp_plz  \\\n",
       "574908      1.000000      0.222222        1     0.0     1.0     0.0      0.0   \n",
       "574909      0.111111      1.000000        1     0.0     0.0     0.0      0.0   \n",
       "574910      1.000000      0.000000        1     0.0     0.0     1.0      0.0   \n",
       "574911      1.000000      0.111111        1     0.0     1.0     0.0      0.0   \n",
       "574912      1.000000      0.000000        1     0.0     1.0     0.0      0.0   \n",
       "\n",
       "        is_match  \n",
       "574908     False  \n",
       "574909     False  \n",
       "574910     False  \n",
       "574911     False  \n",
       "574912     False  "
      ]
     },
     "execution_count": 16,
     "metadata": {},
     "output_type": "execute_result"
    }
   ],
   "source": [
    "frame.tail()"
   ]
  },
  {
   "cell_type": "markdown",
   "metadata": {},
   "source": [
    "#### Criação da visualização da árvore de decisão \n",
    "Seleciona-se as colunas do frame que farão parte da analise, para esse problema\n",
    "pela comando da questão as duas primeiras colunas não iriam compor a analise,\n",
    "após inicializa-se o treinamento do modelo com as colunas selecionadas em x e y,\n",
    "prepara-se a visualização da árvore."
   ]
  },
  {
   "cell_type": "code",
   "execution_count": 18,
   "metadata": {},
   "outputs": [],
   "source": [
    "columns = list(df2.columns[0:7])\n",
    "y = df2[\"Target\"]\n",
    "x = frame[columns]\n",
    "tree = DecisionTreeClassifier()\n",
    "tree.fit(x,y)\n",
    "\n",
    "def visualize_tree(tree, feature_names):\n",
    "    \n",
    "    with open(\"tree.dot\", 'w') as f:\n",
    "        export_graphviz(tree, out_file=f,\n",
    "                        feature_names=feature_names)\n",
    "\n",
    "    command = [\"dot\", \"-Tpng\", \"tree.dot\", \"-o\", \"tree.png\"]\n",
    "    try:\n",
    "        subprocess.check_call(command)\n",
    "    except:\n",
    "        exit(\"Não foi possivel abrir o arquivo\")\n",
    "    \n",
    "visualize_tree(tree, columns)"
   ]
  },
  {
   "cell_type": "markdown",
   "metadata": {},
   "source": [
    "o resultado da visualização da arvore de decisão é a seguinte:"
   ]
  },
  {
   "cell_type": "markdown",
   "metadata": {},
   "source": [
    "![DecisionTree](tree.png \"DecisionTree\")"
   ]
  },
  {
   "cell_type": "markdown",
   "metadata": {},
   "source": [
    "#### Avaliando a precisão do modelo\n",
    "Para avaliar a precisão do modelo os grupos de dados são divididos em dados de treino e dados de teste, onde os dados de treino são x_train e y_train, e os dados de teste são, x_test e y_test. Para realizar a separação de dados utiliza-se o método train_test_split(), da seguinte forma:"
   ]
  },
  {
   "cell_type": "code",
   "execution_count": 19,
   "metadata": {},
   "outputs": [],
   "source": [
    "x_train, x_test, y_train, y_test = train_test_split(x, y, test_size=0.33, random_state=42)"
   ]
  },
  {
   "cell_type": "markdown",
   "metadata": {},
   "source": [
    "Após dividir os grupos de dados, sendo que os dados de teste são definidos em 33% e os dados de treino são 67% dos dados originais, então é realizado o treino dos dados utilizando o método fit(), a previsão dos dados de teste utilizando o método predict() e uma matriz de confusão dos dados de teste com o método confusion_matrix(), como em:"
   ]
  },
  {
   "cell_type": "code",
   "execution_count": 20,
   "metadata": {},
   "outputs": [],
   "source": [
    "tree.fit(x_train, y_train)\n",
    "preds = tree.predict(x_test)"
   ]
  },
  {
   "cell_type": "markdown",
   "metadata": {},
   "source": [
    "Com os dados treinados e previstos, gera-se a matriz de confusão onde existem os dados true_negative(tn), false_positive(fp), false_negative(fn) e true_positive(tp):"
   ]
  },
  {
   "cell_type": "code",
   "execution_count": 21,
   "metadata": {},
   "outputs": [
    {
     "data": {
      "text/plain": [
       "(1890327, 10, 13, 6864)"
      ]
     },
     "execution_count": 21,
     "metadata": {},
     "output_type": "execute_result"
    }
   ],
   "source": [
    "tn, fp, fn, tp = confusion_matrix(y_test, preds).ravel()\n",
    "(tn, fp, fn, tp)"
   ]
  },
  {
   "cell_type": "markdown",
   "metadata": {},
   "source": [
    "Após a matriz de confusão, para a avaliação do modelo realiza-se a comparação dos dados de teste previstos e os dados classificados escolhidos aleatoriamente utilizando o método accuracy_score() e obtém-se a precisão da classificação:"
   ]
  },
  {
   "cell_type": "code",
   "execution_count": 22,
   "metadata": {},
   "outputs": [
    {
     "name": "stdout",
     "output_type": "stream",
     "text": [
      "0.9999878769606381\n"
     ]
    }
   ],
   "source": [
    "print(accuracy_score(y_test, preds))"
   ]
  },
  {
   "cell_type": "markdown",
   "metadata": {},
   "source": [
    "O valor da precisão obtido é de 99,9% o que sugere que em 99,9% das vezes a árvore de decisão é capaz de prever se o \"match\" é verdadeiro ou falso. Após o accuracy_score() utiliza-se o método precision_score() para verificar se os dados de teste que atestaram verdadeiro foram previstos corretamente em relação a todos os dados que atestaram falso de forma incorreta:"
   ]
  },
  {
   "cell_type": "code",
   "execution_count": 23,
   "metadata": {},
   "outputs": [
    {
     "name": "stdout",
     "output_type": "stream",
     "text": [
      "0.9985452429444283\n"
     ]
    }
   ],
   "source": [
    "print(precision_score(y_test, preds))"
   ]
  },
  {
   "cell_type": "markdown",
   "metadata": {},
   "source": [
    "É possível observar que a precisão atestada é de 99,85%, o que sugere que em 99,85% das vezes a árvore de decisão é capaz de prever os dados classificados como verdadeiros corretamente. Como mais uma forma de precisão utiliza-se o método recall_score() para verificar se os dados de teste que atestaram verdadeiro foram previstos corretamente em relação a todos os dados que atestaram verdadeiro de forma incorreta:"
   ]
  },
  {
   "cell_type": "code",
   "execution_count": 24,
   "metadata": {},
   "outputs": [
    {
     "name": "stdout",
     "output_type": "stream",
     "text": [
      "0.998109640831758\n"
     ]
    }
   ],
   "source": [
    "print(recall_score(y_test, preds))"
   ]
  },
  {
   "cell_type": "markdown",
   "metadata": {},
   "source": [
    "É possível observar que a precisão atestada é de 99,81%, o que sugere que em 99,81% das vezes a árvore de decisão é capaz de prever os dados classificados como verdadeiros corretamente. Por fim, utiliza-se o método hamming_loss() para verificar a fração de previsões que foram realizadas de forma incorreta:"
   ]
  },
  {
   "cell_type": "code",
   "execution_count": 25,
   "metadata": {},
   "outputs": [
    {
     "name": "stdout",
     "output_type": "stream",
     "text": [
      "1.2123039361927541e-05\n"
     ]
    }
   ],
   "source": [
    "print(hamming_loss(y_test, preds))"
   ]
  },
  {
   "cell_type": "markdown",
   "metadata": {},
   "source": [
    "Percebe-se que em aproximadamente 0.0012% das vezes a árvore de decisão realiza previsões incorretas."
   ]
  }
 ],
 "metadata": {
  "kernelspec": {
   "display_name": "Python 2",
   "language": "python",
   "name": "python2"
  },
  "language_info": {
   "codemirror_mode": {
    "name": "ipython",
    "version": 2
   },
   "file_extension": ".py",
   "mimetype": "text/x-python",
   "name": "python",
   "nbconvert_exporter": "python",
   "pygments_lexer": "ipython2",
   "version": "2.7.12"
  }
 },
 "nbformat": 4,
 "nbformat_minor": 2
}
