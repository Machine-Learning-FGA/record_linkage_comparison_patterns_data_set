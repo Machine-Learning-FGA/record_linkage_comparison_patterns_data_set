{
 "cells": [
  {
   "cell_type": "code",
   "execution_count": 2,
   "metadata": {},
   "outputs": [],
   "source": [
    "import pandas as pd\n",
    "import numpy as np\n",
    "from  graphviz import Source\n",
    "from scipy import misc\n",
    "from sklearn.neural_network import MLPClassifier\n",
    "from sklearn.model_selection import train_test_split\n",
    "from sklearn.metrics import classification_report, confusion_matrix\n",
    "import matplotlib.pyplot as plt\n",
    "import seaborn as sns"
   ]
  },
  {
   "cell_type": "markdown",
   "metadata": {},
   "source": [
    "#### Importar dados para analise\n",
    "Para iniciar a analise dos dados primeiro necessita-se\n",
    "importar esse dados, os .csv encontrados abaixo são os dados disponibilizados\n",
    "[aqui](https://archive.ics.uci.edu/ml/datasets/record+linkage+comparison+patterns).\n",
    "Após carregar cada um dos dados .csv unimos em um unico frame do pandas."
   ]
  },
  {
   "cell_type": "code",
   "execution_count": 3,
   "metadata": {
    "scrolled": false
   },
   "outputs": [],
   "source": [
    "dataframe = pd.DataFrame()\n",
    "for x in range(1,11):\n",
    "    dataframe_name = '../data/block_'+str(x)+'.csv'\n",
    "    new_dataframe = pd.read_csv(dataframe_name)\n",
    "    dataframe = pd.concat([dataframe,new_dataframe])\n",
    "\n",
    "frame = dataframe"
   ]
  },
  {
   "cell_type": "markdown",
   "metadata": {},
   "source": [
    "#### Exibir Frame\n",
    "Exibir resultado do merge dos frames.."
   ]
  },
  {
   "cell_type": "code",
   "execution_count": 5,
   "metadata": {},
   "outputs": [
    {
     "data": {
      "text/html": [
       "<div>\n",
       "<style scoped>\n",
       "    .dataframe tbody tr th:only-of-type {\n",
       "        vertical-align: middle;\n",
       "    }\n",
       "\n",
       "    .dataframe tbody tr th {\n",
       "        vertical-align: top;\n",
       "    }\n",
       "\n",
       "    .dataframe thead th {\n",
       "        text-align: right;\n",
       "    }\n",
       "</style>\n",
       "<table border=\"1\" class=\"dataframe\">\n",
       "  <thead>\n",
       "    <tr style=\"text-align: right;\">\n",
       "      <th></th>\n",
       "      <th>id_1</th>\n",
       "      <th>id_2</th>\n",
       "      <th>cmp_fname_c1</th>\n",
       "      <th>cmp_fname_c2</th>\n",
       "      <th>cmp_lname_c1</th>\n",
       "      <th>cmp_lname_c2</th>\n",
       "      <th>cmp_sex</th>\n",
       "      <th>cmp_bd</th>\n",
       "      <th>cmp_bm</th>\n",
       "      <th>cmp_by</th>\n",
       "      <th>cmp_plz</th>\n",
       "      <th>is_match</th>\n",
       "    </tr>\n",
       "  </thead>\n",
       "  <tbody>\n",
       "    <tr>\n",
       "      <th>0</th>\n",
       "      <td>37291</td>\n",
       "      <td>53113</td>\n",
       "      <td>0.833333333333333</td>\n",
       "      <td>?</td>\n",
       "      <td>1.0</td>\n",
       "      <td>?</td>\n",
       "      <td>1</td>\n",
       "      <td>1</td>\n",
       "      <td>1</td>\n",
       "      <td>1</td>\n",
       "      <td>0</td>\n",
       "      <td>True</td>\n",
       "    </tr>\n",
       "    <tr>\n",
       "      <th>1</th>\n",
       "      <td>39086</td>\n",
       "      <td>47614</td>\n",
       "      <td>1</td>\n",
       "      <td>?</td>\n",
       "      <td>1.0</td>\n",
       "      <td>?</td>\n",
       "      <td>1</td>\n",
       "      <td>1</td>\n",
       "      <td>1</td>\n",
       "      <td>1</td>\n",
       "      <td>1</td>\n",
       "      <td>True</td>\n",
       "    </tr>\n",
       "    <tr>\n",
       "      <th>2</th>\n",
       "      <td>70031</td>\n",
       "      <td>70237</td>\n",
       "      <td>1</td>\n",
       "      <td>?</td>\n",
       "      <td>1.0</td>\n",
       "      <td>?</td>\n",
       "      <td>1</td>\n",
       "      <td>1</td>\n",
       "      <td>1</td>\n",
       "      <td>1</td>\n",
       "      <td>1</td>\n",
       "      <td>True</td>\n",
       "    </tr>\n",
       "    <tr>\n",
       "      <th>3</th>\n",
       "      <td>84795</td>\n",
       "      <td>97439</td>\n",
       "      <td>1</td>\n",
       "      <td>?</td>\n",
       "      <td>1.0</td>\n",
       "      <td>?</td>\n",
       "      <td>1</td>\n",
       "      <td>1</td>\n",
       "      <td>1</td>\n",
       "      <td>1</td>\n",
       "      <td>1</td>\n",
       "      <td>True</td>\n",
       "    </tr>\n",
       "    <tr>\n",
       "      <th>4</th>\n",
       "      <td>36950</td>\n",
       "      <td>42116</td>\n",
       "      <td>1</td>\n",
       "      <td>?</td>\n",
       "      <td>1.0</td>\n",
       "      <td>1</td>\n",
       "      <td>1</td>\n",
       "      <td>1</td>\n",
       "      <td>1</td>\n",
       "      <td>1</td>\n",
       "      <td>1</td>\n",
       "      <td>True</td>\n",
       "    </tr>\n",
       "  </tbody>\n",
       "</table>\n",
       "</div>"
      ],
      "text/plain": [
       "    id_1   id_2       cmp_fname_c1 cmp_fname_c2  cmp_lname_c1 cmp_lname_c2  \\\n",
       "0  37291  53113  0.833333333333333            ?           1.0            ?   \n",
       "1  39086  47614                  1            ?           1.0            ?   \n",
       "2  70031  70237                  1            ?           1.0            ?   \n",
       "3  84795  97439                  1            ?           1.0            ?   \n",
       "4  36950  42116                  1            ?           1.0            1   \n",
       "\n",
       "   cmp_sex cmp_bd cmp_bm cmp_by cmp_plz  is_match  \n",
       "0        1      1      1      1       0      True  \n",
       "1        1      1      1      1       1      True  \n",
       "2        1      1      1      1       1      True  \n",
       "3        1      1      1      1       1      True  \n",
       "4        1      1      1      1       1      True  "
      ]
     },
     "execution_count": 5,
     "metadata": {},
     "output_type": "execute_result"
    }
   ],
   "source": [
    "frame.head()"
   ]
  },
  {
   "cell_type": "code",
   "execution_count": 5,
   "metadata": {},
   "outputs": [
    {
     "name": "stdout",
     "output_type": "stream",
     "text": [
      "<class 'pandas.core.frame.DataFrame'>\n",
      "Int64Index: 5749132 entries, 0 to 574912\n",
      "Data columns (total 12 columns):\n",
      "id_1            int64\n",
      "id_2            int64\n",
      "cmp_fname_c1    object\n",
      "cmp_fname_c2    object\n",
      "cmp_lname_c1    float64\n",
      "cmp_lname_c2    object\n",
      "cmp_sex         int64\n",
      "cmp_bd          object\n",
      "cmp_bm          object\n",
      "cmp_by          object\n",
      "cmp_plz         object\n",
      "is_match        bool\n",
      "dtypes: bool(1), float64(1), int64(3), object(7)\n",
      "memory usage: 531.8+ MB\n"
     ]
    }
   ],
   "source": [
    "frame.info()"
   ]
  },
  {
   "cell_type": "markdown",
   "metadata": {},
   "source": [
    "É possível observar que os dados numéricos estão em formatos de string"
   ]
  },
  {
   "cell_type": "markdown",
   "metadata": {},
   "source": [
    "#### Corrigindo tipos de dados"
   ]
  },
  {
   "cell_type": "code",
   "execution_count": 4,
   "metadata": {},
   "outputs": [],
   "source": [
    "broken_columns = list(frame.columns[2:11])\n",
    "\n",
    "for column in broken_columns:\n",
    "    frame[column] = frame[column].apply(lambda x: np.NaN if x == '?' else x)\n",
    "    frame[column] = frame[column].apply(lambda x: float(x) if type(x) == str else x)"
   ]
  },
  {
   "cell_type": "code",
   "execution_count": 5,
   "metadata": {},
   "outputs": [
    {
     "name": "stdout",
     "output_type": "stream",
     "text": [
      "<class 'pandas.core.frame.DataFrame'>\n",
      "Int64Index: 5749132 entries, 0 to 574912\n",
      "Data columns (total 12 columns):\n",
      "id_1            int64\n",
      "id_2            int64\n",
      "cmp_fname_c1    float64\n",
      "cmp_fname_c2    float64\n",
      "cmp_lname_c1    float64\n",
      "cmp_lname_c2    float64\n",
      "cmp_sex         int64\n",
      "cmp_bd          float64\n",
      "cmp_bm          float64\n",
      "cmp_by          float64\n",
      "cmp_plz         float64\n",
      "is_match        bool\n",
      "dtypes: bool(1), float64(8), int64(3)\n",
      "memory usage: 531.8 MB\n"
     ]
    }
   ],
   "source": [
    "frame.info()"
   ]
  },
  {
   "cell_type": "markdown",
   "metadata": {},
   "source": [
    "#### Verificando a existência de valores nulos"
   ]
  },
  {
   "cell_type": "code",
   "execution_count": 11,
   "metadata": {},
   "outputs": [],
   "source": [
    "imp_values = frame.drop(['id_1','id_2','is_match'],axis=1)"
   ]
  },
  {
   "cell_type": "code",
   "execution_count": 12,
   "metadata": {
    "scrolled": true
   },
   "outputs": [],
   "source": [
    "melted_frame = pd.melt(imp_values.notnull())"
   ]
  },
  {
   "cell_type": "code",
   "execution_count": 13,
   "metadata": {
    "scrolled": true
   },
   "outputs": [
    {
     "data": {
      "image/png": "[encoded data removed]",
      "text/plain": [
       "<Figure size 1080x288 with 1 Axes>"
      ]
     },
     "metadata": {},
     "output_type": "display_data"
    }
   ],
   "source": [
    "plt.figure(figsize=(15,4))\n",
    "sns.countplot(melted_frame['variable'],hue=melted_frame['value'])\n",
    "plt.tight_layout()"
   ]
  },
  {
   "cell_type": "markdown",
   "metadata": {},
   "source": [
    "No gráfico acima as barras em azul representam o número de valores nulos de cada coluna"
   ]
  },
  {
   "cell_type": "code",
   "execution_count": 14,
   "metadata": {},
   "outputs": [
    {
     "data": {
      "text/plain": [
       "<matplotlib.axes._subplots.AxesSubplot at 0x7f484fd83a10>"
      ]
     },
     "execution_count": 14,
     "metadata": {},
     "output_type": "execute_result"
    },
    {
     "data": {
      "image/png": "[encoded data removed]",
      "text/plain": [
       "<Figure size 432x288 with 1 Axes>"
      ]
     },
     "metadata": {},
     "output_type": "display_data"
    }
   ],
   "source": [
    "sns.heatmap(imp_values.isnull(),cbar=False,yticklabels=False)"
   ]
  },
  {
   "cell_type": "markdown",
   "metadata": {},
   "source": [
    "Acima vemos outro gráfico que representa a quantidade de valores nulos de cada coluna. Nesse caso as partes claras\n",
    "representam os valores faltantes"
   ]
  },
  {
   "cell_type": "markdown",
   "metadata": {},
   "source": [
    "#### Removendo colunas vazias\n",
    "Com a visualização dos graficos é possivel observar que as colunas cmp_fname_c2 e cmp_lname_c2, existem muitos dados faltantes, então ele serão desconsideradas a aplicação dos métodos e nas demais colunas onde existem dados faltantes serão preenchidas pelas medias dos valores dos dados;"
   ]
  },
  {
   "cell_type": "markdown",
   "metadata": {},
   "source": [
    "Removendo colunas desnecessario para aplicar o modelo."
   ]
  },
  {
   "cell_type": "code",
   "execution_count": 6,
   "metadata": {},
   "outputs": [],
   "source": [
    "frame.drop(['id_1','id_2','cmp_fname_c2','cmp_lname_c2'],axis=1,inplace=True)"
   ]
  },
  {
   "cell_type": "markdown",
   "metadata": {},
   "source": [
    "Aplicando as medias para os demais valores faltantes dos frames."
   ]
  },
  {
   "cell_type": "code",
   "execution_count": 7,
   "metadata": {},
   "outputs": [],
   "source": [
    "def preparer_data(frame):\n",
    "    frame[\"cmp_fname_c1\"] = frame[\"cmp_fname_c1\"].replace(np.NaN,0.000235404896421846)\n",
    "    frame[\"cmp_lname_c1\"] = frame[\"cmp_lname_c1\"].replace(np.NaN,2.68694413843136e-05)\n",
    "    frame[\"cmp_sex\"] = frame[\"cmp_sex\"].replace(np.NaN,0.5)\n",
    "    frame[\"cmp_bd\"] = frame[\"cmp_bd\"].replace(np.NaN,0.032258064516129)\n",
    "    frame[\"cmp_bm\"] = frame[\"cmp_bm\"].replace(np.NaN,0.0833333333333333)\n",
    "    frame[\"cmp_by\"] = frame[\"cmp_by\"].replace(np.NaN, 0.00943396226415094)\n",
    "    frame[\"cmp_plz\"] = frame[\"cmp_plz\"].replace(np.NaN, 0.000422654268808115)\n",
    "    \n",
    "    return frame\n",
    "\n",
    "frame = preparer_data(frame)"
   ]
  },
  {
   "cell_type": "markdown",
   "metadata": {},
   "source": [
    "#### Verificando a existência de valores nulos"
   ]
  },
  {
   "cell_type": "code",
   "execution_count": 10,
   "metadata": {},
   "outputs": [
    {
     "data": {
      "text/plain": [
       "False"
      ]
     },
     "execution_count": 10,
     "metadata": {},
     "output_type": "execute_result"
    }
   ],
   "source": [
    "frame.isnull().values.any()"
   ]
  },
  {
   "cell_type": "markdown",
   "metadata": {},
   "source": [
    "Ainda para observar, se as demais features que irão realmente compor o modelo, iremos buscar a correlação entre elas,\n",
    "casos duas features tenham correlação muito alta, deverão ser desconsideradas no modelo, pois elas basicamente estariam \n",
    "trazendo a mesma informação ao modelo."
   ]
  },
  {
   "cell_type": "code",
   "execution_count": 11,
   "metadata": {},
   "outputs": [
    {
     "data": {
      "text/html": [
       "<div>\n",
       "<style scoped>\n",
       "    .dataframe tbody tr th:only-of-type {\n",
       "        vertical-align: middle;\n",
       "    }\n",
       "\n",
       "    .dataframe tbody tr th {\n",
       "        vertical-align: top;\n",
       "    }\n",
       "\n",
       "    .dataframe thead th {\n",
       "        text-align: right;\n",
       "    }\n",
       "</style>\n",
       "<table border=\"1\" class=\"dataframe\">\n",
       "  <thead>\n",
       "    <tr style=\"text-align: right;\">\n",
       "      <th></th>\n",
       "      <th>cmp_fname_c1</th>\n",
       "      <th>cmp_lname_c1</th>\n",
       "      <th>cmp_sex</th>\n",
       "      <th>cmp_bd</th>\n",
       "      <th>cmp_bm</th>\n",
       "      <th>cmp_by</th>\n",
       "      <th>cmp_plz</th>\n",
       "      <th>is_match</th>\n",
       "    </tr>\n",
       "  </thead>\n",
       "  <tbody>\n",
       "    <tr>\n",
       "      <th>cmp_fname_c1</th>\n",
       "      <td>1.000000</td>\n",
       "      <td>-0.668145</td>\n",
       "      <td>0.151666</td>\n",
       "      <td>0.016742</td>\n",
       "      <td>0.274531</td>\n",
       "      <td>0.033493</td>\n",
       "      <td>0.031607</td>\n",
       "      <td>0.044168</td>\n",
       "    </tr>\n",
       "    <tr>\n",
       "      <th>cmp_lname_c1</th>\n",
       "      <td>-0.668145</td>\n",
       "      <td>1.000000</td>\n",
       "      <td>0.109754</td>\n",
       "      <td>-0.210898</td>\n",
       "      <td>-0.392630</td>\n",
       "      <td>-0.219032</td>\n",
       "      <td>0.101822</td>\n",
       "      <td>0.123234</td>\n",
       "    </tr>\n",
       "    <tr>\n",
       "      <th>cmp_sex</th>\n",
       "      <td>0.151666</td>\n",
       "      <td>0.109754</td>\n",
       "      <td>1.000000</td>\n",
       "      <td>-0.242386</td>\n",
       "      <td>-0.151130</td>\n",
       "      <td>-0.239898</td>\n",
       "      <td>0.008734</td>\n",
       "      <td>0.009416</td>\n",
       "    </tr>\n",
       "    <tr>\n",
       "      <th>cmp_bd</th>\n",
       "      <td>0.016742</td>\n",
       "      <td>-0.210898</td>\n",
       "      <td>-0.242386</td>\n",
       "      <td>1.000000</td>\n",
       "      <td>-0.183648</td>\n",
       "      <td>0.072568</td>\n",
       "      <td>0.085247</td>\n",
       "      <td>0.111908</td>\n",
       "    </tr>\n",
       "    <tr>\n",
       "      <th>cmp_bm</th>\n",
       "      <td>0.274531</td>\n",
       "      <td>-0.392630</td>\n",
       "      <td>-0.151130</td>\n",
       "      <td>-0.183648</td>\n",
       "      <td>1.000000</td>\n",
       "      <td>-0.181056</td>\n",
       "      <td>0.045027</td>\n",
       "      <td>0.061539</td>\n",
       "    </tr>\n",
       "    <tr>\n",
       "      <th>cmp_by</th>\n",
       "      <td>0.033493</td>\n",
       "      <td>-0.219032</td>\n",
       "      <td>-0.239898</td>\n",
       "      <td>0.072568</td>\n",
       "      <td>-0.181056</td>\n",
       "      <td>1.000000</td>\n",
       "      <td>0.086154</td>\n",
       "      <td>0.112324</td>\n",
       "    </tr>\n",
       "    <tr>\n",
       "      <th>cmp_plz</th>\n",
       "      <td>0.031607</td>\n",
       "      <td>0.101822</td>\n",
       "      <td>0.008734</td>\n",
       "      <td>0.085247</td>\n",
       "      <td>0.045027</td>\n",
       "      <td>0.086154</td>\n",
       "      <td>1.000000</td>\n",
       "      <td>0.776620</td>\n",
       "    </tr>\n",
       "    <tr>\n",
       "      <th>is_match</th>\n",
       "      <td>0.044168</td>\n",
       "      <td>0.123234</td>\n",
       "      <td>0.009416</td>\n",
       "      <td>0.111908</td>\n",
       "      <td>0.061539</td>\n",
       "      <td>0.112324</td>\n",
       "      <td>0.776620</td>\n",
       "      <td>1.000000</td>\n",
       "    </tr>\n",
       "  </tbody>\n",
       "</table>\n",
       "</div>"
      ],
      "text/plain": [
       "              cmp_fname_c1  cmp_lname_c1   cmp_sex    cmp_bd    cmp_bm  \\\n",
       "cmp_fname_c1      1.000000     -0.668145  0.151666  0.016742  0.274531   \n",
       "cmp_lname_c1     -0.668145      1.000000  0.109754 -0.210898 -0.392630   \n",
       "cmp_sex           0.151666      0.109754  1.000000 -0.242386 -0.151130   \n",
       "cmp_bd            0.016742     -0.210898 -0.242386  1.000000 -0.183648   \n",
       "cmp_bm            0.274531     -0.392630 -0.151130 -0.183648  1.000000   \n",
       "cmp_by            0.033493     -0.219032 -0.239898  0.072568 -0.181056   \n",
       "cmp_plz           0.031607      0.101822  0.008734  0.085247  0.045027   \n",
       "is_match          0.044168      0.123234  0.009416  0.111908  0.061539   \n",
       "\n",
       "                cmp_by   cmp_plz  is_match  \n",
       "cmp_fname_c1  0.033493  0.031607  0.044168  \n",
       "cmp_lname_c1 -0.219032  0.101822  0.123234  \n",
       "cmp_sex      -0.239898  0.008734  0.009416  \n",
       "cmp_bd        0.072568  0.085247  0.111908  \n",
       "cmp_bm       -0.181056  0.045027  0.061539  \n",
       "cmp_by        1.000000  0.086154  0.112324  \n",
       "cmp_plz       0.086154  1.000000  0.776620  \n",
       "is_match      0.112324  0.776620  1.000000  "
      ]
     },
     "execution_count": 11,
     "metadata": {},
     "output_type": "execute_result"
    }
   ],
   "source": [
    "frame.corr()"
   ]
  },
  {
   "cell_type": "markdown",
   "metadata": {},
   "source": [
    "Partindo da tabela de correlação podemos intenficar, que os dados estão bem desacoplados, sendo assim podemos utiliza-los no nosso modelo. Por padrão a correlação que o pandas implementa é a correlação de pearson, onde:\n",
    "\n",
    "\n",
    "$\\rho = 1$ - Significa a existência de uma correlação perfeita e positiva entre duas variáveis.\n",
    "\n",
    "$\\rho = -1$ - Significa a existência de uma correlação perfeita e negativa entre duas variáveis, ou seja são inversamente proporcionais.\n",
    "\n",
    "$\\rho = 0$ - Significa que as variáveis não dependem linearmente uma da outra."
   ]
  },
  {
   "cell_type": "markdown",
   "metadata": {},
   "source": [
    "Para melhor visualizar a correlação dos dados o seguinte gráfico foi gerado:"
   ]
  },
  {
   "cell_type": "code",
   "execution_count": 8,
   "metadata": {},
   "outputs": [
    {
     "data": {
      "text/plain": [
       "<matplotlib.axes._subplots.AxesSubplot at 0x7f4a90498c88>"
      ]
     },
     "execution_count": 8,
     "metadata": {},
     "output_type": "execute_result"
    },
    {
     "data": {
      "image/png": "[encoded data removed]",
      "text/plain": [
       "<Figure size 432x288 with 2 Axes>"
      ]
     },
     "metadata": {},
     "output_type": "display_data"
    }
   ],
   "source": [
    "sns.heatmap(frame.corr())"
   ]
  },
  {
   "cell_type": "markdown",
   "metadata": {},
   "source": [
    "Após esse tramento dos dados, as features abaixo serão as que vão incorporar o modelo."
   ]
  },
  {
   "cell_type": "code",
   "execution_count": 12,
   "metadata": {},
   "outputs": [
    {
     "data": {
      "text/html": [
       "<div>\n",
       "<style scoped>\n",
       "    .dataframe tbody tr th:only-of-type {\n",
       "        vertical-align: middle;\n",
       "    }\n",
       "\n",
       "    .dataframe tbody tr th {\n",
       "        vertical-align: top;\n",
       "    }\n",
       "\n",
       "    .dataframe thead th {\n",
       "        text-align: right;\n",
       "    }\n",
       "</style>\n",
       "<table border=\"1\" class=\"dataframe\">\n",
       "  <thead>\n",
       "    <tr style=\"text-align: right;\">\n",
       "      <th></th>\n",
       "      <th>cmp_fname_c1</th>\n",
       "      <th>cmp_lname_c1</th>\n",
       "      <th>cmp_sex</th>\n",
       "      <th>cmp_bd</th>\n",
       "      <th>cmp_bm</th>\n",
       "      <th>cmp_by</th>\n",
       "      <th>cmp_plz</th>\n",
       "      <th>is_match</th>\n",
       "    </tr>\n",
       "  </thead>\n",
       "  <tbody>\n",
       "    <tr>\n",
       "      <th>0</th>\n",
       "      <td>0.833333</td>\n",
       "      <td>1.0</td>\n",
       "      <td>1</td>\n",
       "      <td>1.0</td>\n",
       "      <td>1.0</td>\n",
       "      <td>1.0</td>\n",
       "      <td>0.0</td>\n",
       "      <td>True</td>\n",
       "    </tr>\n",
       "    <tr>\n",
       "      <th>1</th>\n",
       "      <td>1.000000</td>\n",
       "      <td>1.0</td>\n",
       "      <td>1</td>\n",
       "      <td>1.0</td>\n",
       "      <td>1.0</td>\n",
       "      <td>1.0</td>\n",
       "      <td>1.0</td>\n",
       "      <td>True</td>\n",
       "    </tr>\n",
       "    <tr>\n",
       "      <th>2</th>\n",
       "      <td>1.000000</td>\n",
       "      <td>1.0</td>\n",
       "      <td>1</td>\n",
       "      <td>1.0</td>\n",
       "      <td>1.0</td>\n",
       "      <td>1.0</td>\n",
       "      <td>1.0</td>\n",
       "      <td>True</td>\n",
       "    </tr>\n",
       "    <tr>\n",
       "      <th>3</th>\n",
       "      <td>1.000000</td>\n",
       "      <td>1.0</td>\n",
       "      <td>1</td>\n",
       "      <td>1.0</td>\n",
       "      <td>1.0</td>\n",
       "      <td>1.0</td>\n",
       "      <td>1.0</td>\n",
       "      <td>True</td>\n",
       "    </tr>\n",
       "    <tr>\n",
       "      <th>4</th>\n",
       "      <td>1.000000</td>\n",
       "      <td>1.0</td>\n",
       "      <td>1</td>\n",
       "      <td>1.0</td>\n",
       "      <td>1.0</td>\n",
       "      <td>1.0</td>\n",
       "      <td>1.0</td>\n",
       "      <td>True</td>\n",
       "    </tr>\n",
       "  </tbody>\n",
       "</table>\n",
       "</div>"
      ],
      "text/plain": [
       "   cmp_fname_c1  cmp_lname_c1  cmp_sex  cmp_bd  cmp_bm  cmp_by  cmp_plz  \\\n",
       "0      0.833333           1.0        1     1.0     1.0     1.0      0.0   \n",
       "1      1.000000           1.0        1     1.0     1.0     1.0      1.0   \n",
       "2      1.000000           1.0        1     1.0     1.0     1.0      1.0   \n",
       "3      1.000000           1.0        1     1.0     1.0     1.0      1.0   \n",
       "4      1.000000           1.0        1     1.0     1.0     1.0      1.0   \n",
       "\n",
       "   is_match  \n",
       "0      True  \n",
       "1      True  \n",
       "2      True  \n",
       "3      True  \n",
       "4      True  "
      ]
     },
     "execution_count": 12,
     "metadata": {},
     "output_type": "execute_result"
    }
   ],
   "source": [
    "frame.head()"
   ]
  },
  {
   "cell_type": "markdown",
   "metadata": {},
   "source": [
    "# Neural Network\n",
    "\n",
    "Após todo o tratamento dos dados a solução utilizando redes neurais foi implementada nos passos a seguir."
   ]
  },
  {
   "cell_type": "markdown",
   "metadata": {},
   "source": [
    "Insere a coluna de resultados (**is_match**) na variável `y`."
   ]
  },
  {
   "cell_type": "code",
   "execution_count": 13,
   "metadata": {},
   "outputs": [],
   "source": [
    "y = frame['is_match']"
   ]
  },
  {
   "cell_type": "markdown",
   "metadata": {},
   "source": [
    "Remove a coluna **is_match** para que após o treinamento o resultado gerado seja comparado com a coluna y (**is_match**) e insere na variável X."
   ]
  },
  {
   "cell_type": "code",
   "execution_count": 14,
   "metadata": {},
   "outputs": [],
   "source": [
    "X = frame.drop(['is_match'],axis=1)"
   ]
  },
  {
   "cell_type": "markdown",
   "metadata": {},
   "source": [
    "Separando os valores de *test* e *train*. sendo 33% para teste."
   ]
  },
  {
   "cell_type": "code",
   "execution_count": 18,
   "metadata": {},
   "outputs": [],
   "source": [
    "X_train, X_test, y_train, y_test = train_test_split(X, y, test_size=0.33, random_state=42)"
   ]
  },
  {
   "cell_type": "markdown",
   "metadata": {},
   "source": [
    "Imprime a quantidade de colunas para dimensionar *hidden layer*."
   ]
  },
  {
   "cell_type": "code",
   "execution_count": 19,
   "metadata": {},
   "outputs": [
    {
     "data": {
      "text/plain": [
       "[Int64Index([     0,      1,      2,      3,      4,      5,      6,      7,\n",
       "                  8,      9,\n",
       "             ...\n",
       "             574903, 574904, 574905, 574906, 574907, 574908, 574909, 574910,\n",
       "             574911, 574912],\n",
       "            dtype='int64', length=5749132),\n",
       " Index(['cmp_fname_c1', 'cmp_lname_c1', 'cmp_sex', 'cmp_bd', 'cmp_bm', 'cmp_by',\n",
       "        'cmp_plz'],\n",
       "       dtype='object')]"
      ]
     },
     "execution_count": 19,
     "metadata": {},
     "output_type": "execute_result"
    }
   ],
   "source": [
    "X.axes"
   ]
  },
  {
   "cell_type": "markdown",
   "metadata": {},
   "source": [
    "Configurando as dimensões da rede neural para uma matriz 10x7."
   ]
  },
  {
   "cell_type": "code",
   "execution_count": 20,
   "metadata": {},
   "outputs": [],
   "source": [
    "clf = MLPClassifier(solver='lbfgs', hidden_layer_sizes=(10,7), random_state=1)"
   ]
  },
  {
   "cell_type": "markdown",
   "metadata": {},
   "source": [
    "Aplicando método `fit`, que tem por objetivo ajustar o modelo aos dados X e y."
   ]
  },
  {
   "cell_type": "code",
   "execution_count": 21,
   "metadata": {},
   "outputs": [
    {
     "data": {
      "text/plain": [
       "MLPClassifier(activation='relu', alpha=0.0001, batch_size='auto', beta_1=0.9,\n",
       "       beta_2=0.999, early_stopping=False, epsilon=1e-08,\n",
       "       hidden_layer_sizes=(10, 7), learning_rate='constant',\n",
       "       learning_rate_init=0.001, max_iter=200, momentum=0.9,\n",
       "       nesterovs_momentum=True, power_t=0.5, random_state=1, shuffle=True,\n",
       "       solver='lbfgs', tol=0.0001, validation_fraction=0.1, verbose=False,\n",
       "       warm_start=False)"
      ]
     },
     "execution_count": 21,
     "metadata": {},
     "output_type": "execute_result"
    }
   ],
   "source": [
    "clf.fit(X_train,y_train)"
   ]
  },
  {
   "cell_type": "markdown",
   "metadata": {},
   "source": [
    "Identificando os pesos da rede depois do treinamento."
   ]
  },
  {
   "cell_type": "code",
   "execution_count": 28,
   "metadata": {},
   "outputs": [
    {
     "name": "stdout",
     "output_type": "stream",
     "text": [
      "Quantidade de camadas da rede 3\n",
      "Peso da camanda 0 = 7\n",
      "Peso da camanda 1 = 10\n",
      "Peso da camanda 2 = 7\n"
     ]
    }
   ],
   "source": [
    "print(\"Quantidade de camadas da rede\", len(clf.coefs_))\n",
    "print(\"Peso da camanda 0 =\", len(clf.coefs_[0]))\n",
    "print(\"Peso da camanda 1 =\", len(clf.coefs_[1]))\n",
    "print(\"Peso da camanda 2 =\", len(clf.coefs_[2]))"
   ]
  },
  {
   "cell_type": "code",
   "execution_count": 29,
   "metadata": {},
   "outputs": [
    {
     "data": {
      "text/plain": [
       "10"
      ]
     },
     "execution_count": 29,
     "metadata": {},
     "output_type": "execute_result"
    }
   ],
   "source": [
    "len(clf.intercepts_[0])"
   ]
  },
  {
   "cell_type": "markdown",
   "metadata": {},
   "source": [
    "Executando o método `predict` a rede neural é usada para predizer o resultado dos dados. "
   ]
  },
  {
   "cell_type": "code",
   "execution_count": 30,
   "metadata": {},
   "outputs": [],
   "source": [
    "result = clf.predict(X_test)"
   ]
  },
  {
   "cell_type": "markdown",
   "metadata": {},
   "source": [
    "## Teste"
   ]
  },
  {
   "cell_type": "markdown",
   "metadata": {},
   "source": [
    "Matriz de confusão"
   ]
  },
  {
   "cell_type": "code",
   "execution_count": 31,
   "metadata": {},
   "outputs": [
    {
     "name": "stdout",
     "output_type": "stream",
     "text": [
      "[[1890302      35]\n",
      " [     29    6848]]\n"
     ]
    }
   ],
   "source": [
    "print(confusion_matrix(y_test, result))"
   ]
  },
  {
   "cell_type": "markdown",
   "metadata": {},
   "source": [
    "Resultados:"
   ]
  },
  {
   "cell_type": "code",
   "execution_count": 32,
   "metadata": {},
   "outputs": [
    {
     "name": "stdout",
     "output_type": "stream",
     "text": [
      "             precision    recall  f1-score   support\n",
      "\n",
      "      False       1.00      1.00      1.00   1890337\n",
      "       True       0.99      1.00      1.00      6877\n",
      "\n",
      "avg / total       1.00      1.00      1.00   1897214\n",
      "\n"
     ]
    }
   ],
   "source": [
    "print(classification_report(y_test, result))"
   ]
  },
  {
   "cell_type": "code",
   "execution_count": null,
   "metadata": {},
   "outputs": [],
   "source": []
  }
 ],
 "metadata": {
  "kernelspec": {
   "display_name": "Python 3",
   "language": "python",
   "name": "python3"
  },
  "language_info": {
   "codemirror_mode": {
    "name": "ipython",
    "version": 3
   },
   "file_extension": ".py",
   "mimetype": "text/x-python",
   "name": "python",
   "nbconvert_exporter": "python",
   "pygments_lexer": "ipython3",
   "version": "3.6.3"
  }
 },
 "nbformat": 4,
 "nbformat_minor": 2
}
