{
 "cells": [
  {
   "cell_type": "markdown",
   "metadata": {},
   "source": [
    "## Import libraries"
   ]
  },
  {
   "cell_type": "markdown",
   "metadata": {},
   "source": [
    "For now we are just gone use two libraries, pandas, for dataframe manipulation, and numpy for array operations and math"
   ]
  },
  {
   "cell_type": "code",
   "execution_count": 1,
   "metadata": {},
   "outputs": [],
   "source": [
    "import pandas as pd\n",
    "import numpy as np"
   ]
  },
  {
   "cell_type": "markdown",
   "metadata": {},
   "source": [
    "## Import the Data\n",
    "<p>The data is divided into 10 packages, each one containing roughly 570000 observations. Here we are going to put all of the 10 packages into one dataframe</p>"
   ]
  },
  {
   "cell_type": "code",
   "execution_count": 31,
   "metadata": {},
   "outputs": [],
   "source": [
    "#df = pd.read_csv('block_1.csv')\n",
    "#df = df.append(pd.read_csv('block_2.csv'),ignore_index=True)\n",
    "for x in range(1,11):\n",
    "    dataframe_name = 'block_'+str(x)+'.csv'\n",
    "    new_dataframe = pd.read_csv(dataframe_name)\n",
    "    df = pd.concat([new_dataframe,df])"
   ]
  },
  {
   "cell_type": "code",
   "execution_count": 32,
   "metadata": {},
   "outputs": [
    {
     "name": "stdout",
     "output_type": "stream",
     "text": [
      "<class 'pandas.core.frame.DataFrame'>\n",
      "Int64Index: 12073177 entries, 0 to 6324044\n",
      "Data columns (total 12 columns):\n",
      "id_1            int64\n",
      "id_2            int64\n",
      "cmp_fname_c1    object\n",
      "cmp_fname_c2    object\n",
      "cmp_lname_c1    float64\n",
      "cmp_lname_c2    object\n",
      "cmp_sex         int64\n",
      "cmp_bd          object\n",
      "cmp_bm          object\n",
      "cmp_by          object\n",
      "cmp_plz         object\n",
      "is_match        bool\n",
      "dtypes: bool(1), float64(1), int64(3), object(7)\n",
      "memory usage: 1.1+ GB\n"
     ]
    }
   ],
   "source": [
    "df.info()"
   ]
  },
  {
   "cell_type": "code",
   "execution_count": 33,
   "metadata": {},
   "outputs": [
    {
     "data": {
      "text/html": [
       "<div>\n",
       "<style scoped>\n",
       "    .dataframe tbody tr th:only-of-type {\n",
       "        vertical-align: middle;\n",
       "    }\n",
       "\n",
       "    .dataframe tbody tr th {\n",
       "        vertical-align: top;\n",
       "    }\n",
       "\n",
       "    .dataframe thead th {\n",
       "        text-align: right;\n",
       "    }\n",
       "</style>\n",
       "<table border=\"1\" class=\"dataframe\">\n",
       "  <thead>\n",
       "    <tr style=\"text-align: right;\">\n",
       "      <th></th>\n",
       "      <th>id_1</th>\n",
       "      <th>id_2</th>\n",
       "      <th>cmp_fname_c1</th>\n",
       "      <th>cmp_fname_c2</th>\n",
       "      <th>cmp_lname_c1</th>\n",
       "      <th>cmp_lname_c2</th>\n",
       "      <th>cmp_sex</th>\n",
       "      <th>cmp_bd</th>\n",
       "      <th>cmp_bm</th>\n",
       "      <th>cmp_by</th>\n",
       "      <th>cmp_plz</th>\n",
       "      <th>is_match</th>\n",
       "    </tr>\n",
       "  </thead>\n",
       "  <tbody>\n",
       "    <tr>\n",
       "      <th>0</th>\n",
       "      <td>41264</td>\n",
       "      <td>44629</td>\n",
       "      <td>1</td>\n",
       "      <td>?</td>\n",
       "      <td>1.0</td>\n",
       "      <td>?</td>\n",
       "      <td>1</td>\n",
       "      <td>1</td>\n",
       "      <td>1</td>\n",
       "      <td>1</td>\n",
       "      <td>1</td>\n",
       "      <td>True</td>\n",
       "    </tr>\n",
       "    <tr>\n",
       "      <th>1</th>\n",
       "      <td>28871</td>\n",
       "      <td>41775</td>\n",
       "      <td>1</td>\n",
       "      <td>?</td>\n",
       "      <td>1.0</td>\n",
       "      <td>?</td>\n",
       "      <td>1</td>\n",
       "      <td>1</td>\n",
       "      <td>1</td>\n",
       "      <td>1</td>\n",
       "      <td>1</td>\n",
       "      <td>True</td>\n",
       "    </tr>\n",
       "    <tr>\n",
       "      <th>2</th>\n",
       "      <td>99344</td>\n",
       "      <td>99345</td>\n",
       "      <td>1</td>\n",
       "      <td>?</td>\n",
       "      <td>1.0</td>\n",
       "      <td>?</td>\n",
       "      <td>1</td>\n",
       "      <td>1</td>\n",
       "      <td>1</td>\n",
       "      <td>1</td>\n",
       "      <td>1</td>\n",
       "      <td>True</td>\n",
       "    </tr>\n",
       "    <tr>\n",
       "      <th>3</th>\n",
       "      <td>31193</td>\n",
       "      <td>66985</td>\n",
       "      <td>1</td>\n",
       "      <td>?</td>\n",
       "      <td>1.0</td>\n",
       "      <td>?</td>\n",
       "      <td>1</td>\n",
       "      <td>1</td>\n",
       "      <td>1</td>\n",
       "      <td>1</td>\n",
       "      <td>0</td>\n",
       "      <td>True</td>\n",
       "    </tr>\n",
       "    <tr>\n",
       "      <th>4</th>\n",
       "      <td>24429</td>\n",
       "      <td>25831</td>\n",
       "      <td>1</td>\n",
       "      <td>?</td>\n",
       "      <td>1.0</td>\n",
       "      <td>?</td>\n",
       "      <td>1</td>\n",
       "      <td>1</td>\n",
       "      <td>1</td>\n",
       "      <td>1</td>\n",
       "      <td>1</td>\n",
       "      <td>True</td>\n",
       "    </tr>\n",
       "  </tbody>\n",
       "</table>\n",
       "</div>"
      ],
      "text/plain": [
       "    id_1   id_2 cmp_fname_c1 cmp_fname_c2  cmp_lname_c1 cmp_lname_c2  cmp_sex  \\\n",
       "0  41264  44629            1            ?           1.0            ?        1   \n",
       "1  28871  41775            1            ?           1.0            ?        1   \n",
       "2  99344  99345            1            ?           1.0            ?        1   \n",
       "3  31193  66985            1            ?           1.0            ?        1   \n",
       "4  24429  25831            1            ?           1.0            ?        1   \n",
       "\n",
       "  cmp_bd cmp_bm cmp_by cmp_plz  is_match  \n",
       "0      1      1      1       1      True  \n",
       "1      1      1      1       1      True  \n",
       "2      1      1      1       1      True  \n",
       "3      1      1      1       0      True  \n",
       "4      1      1      1       1      True  "
      ]
     },
     "execution_count": 33,
     "metadata": {},
     "output_type": "execute_result"
    }
   ],
   "source": [
    "df.head()"
   ]
  },
  {
   "cell_type": "code",
   "execution_count": null,
   "metadata": {},
   "outputs": [],
   "source": []
  }
 ],
 "metadata": {
  "kernelspec": {
   "display_name": "Python 3",
   "language": "python",
   "name": "python3"
  },
  "language_info": {
   "codemirror_mode": {
    "name": "ipython",
    "version": 3
   },
   "file_extension": ".py",
   "mimetype": "text/x-python",
   "name": "python",
   "nbconvert_exporter": "python",
   "pygments_lexer": "ipython3",
   "version": "3.5.2"
  }
 },
 "nbformat": 4,
 "nbformat_minor": 2
}
